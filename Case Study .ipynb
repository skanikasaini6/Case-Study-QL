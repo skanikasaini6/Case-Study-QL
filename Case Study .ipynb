{
 "cells": [
  {
   "cell_type": "markdown",
   "metadata": {},
   "source": [
    "### Author: Kanika Saini"
   ]
  },
  {
   "cell_type": "markdown",
   "metadata": {},
   "source": [
    "#### Importing all the necessary packages"
   ]
  },
  {
   "cell_type": "code",
   "execution_count": 1078,
   "metadata": {},
   "outputs": [],
   "source": [
    "import pandas as pd\n",
    "import seaborn as sns\n",
    "from matplotlib import pyplot as plt\n",
    "import scipy.stats as ss\n",
    "from sklearn import preprocessing\n",
    "import numpy as np\n",
    "from sklearn import metrics\n",
    "from sklearn.linear_model import LogisticRegression\n",
    "from sklearn.metrics import classification_report, confusion_matrix\n",
    "from sklearn.model_selection import train_test_split\n",
    "from sklearn.neighbors import KNeighborsClassifier\n",
    "from sklearn.naive_bayes import GaussianNB\n",
    "from sklearn.tree import DecisionTreeClassifier\n",
    "from sklearn.model_selection import GridSearchCV\n",
    "from sklearn.metrics import roc_curve, roc_auc_score\n",
    "from sklearn.model_selection import cross_val_score\n",
    "from sklearn.metrics import confusion_matrix"
   ]
  },
  {
   "cell_type": "markdown",
   "metadata": {},
   "source": [
    "#### Importing the data from the local system into the Jupyter Notebook"
   ]
  },
  {
   "cell_type": "code",
   "execution_count": 1079,
   "metadata": {},
   "outputs": [],
   "source": [
    "bank_add_full=pd.read_csv(\"bank-additional-full.csv\",sep=\";\")"
   ]
  },
  {
   "cell_type": "code",
   "execution_count": 1080,
   "metadata": {},
   "outputs": [],
   "source": [
    "dt=bank_add_full"
   ]
  },
  {
   "cell_type": "markdown",
   "metadata": {},
   "source": [
    "#### Print the general information about the dataset and its attributes"
   ]
  },
  {
   "cell_type": "code",
   "execution_count": 1081,
   "metadata": {},
   "outputs": [
    {
     "name": "stdout",
     "output_type": "stream",
     "text": [
      "<class 'pandas.core.frame.DataFrame'>\n",
      "RangeIndex: 41188 entries, 0 to 41187\n",
      "Data columns (total 21 columns):\n",
      " #   Column          Non-Null Count  Dtype  \n",
      "---  ------          --------------  -----  \n",
      " 0   age             41188 non-null  int64  \n",
      " 1   job             41188 non-null  object \n",
      " 2   marital         41188 non-null  object \n",
      " 3   education       41188 non-null  object \n",
      " 4   default         41188 non-null  object \n",
      " 5   housing         41188 non-null  object \n",
      " 6   loan            41188 non-null  object \n",
      " 7   contact         41188 non-null  object \n",
      " 8   month           41188 non-null  object \n",
      " 9   day_of_week     41188 non-null  object \n",
      " 10  duration        41188 non-null  int64  \n",
      " 11  campaign        41188 non-null  int64  \n",
      " 12  pdays           41188 non-null  int64  \n",
      " 13  previous        41188 non-null  int64  \n",
      " 14  poutcome        41188 non-null  object \n",
      " 15  emp.var.rate    41188 non-null  float64\n",
      " 16  cons.price.idx  41188 non-null  float64\n",
      " 17  cons.conf.idx   41188 non-null  float64\n",
      " 18  euribor3m       41188 non-null  float64\n",
      " 19  nr.employed     41188 non-null  float64\n",
      " 20  y               41188 non-null  object \n",
      "dtypes: float64(5), int64(5), object(11)\n",
      "memory usage: 6.6+ MB\n"
     ]
    }
   ],
   "source": [
    "bank_add_full.info()"
   ]
  },
  {
   "cell_type": "markdown",
   "metadata": {},
   "source": [
    "#### Printing the first few records of the data"
   ]
  },
  {
   "cell_type": "code",
   "execution_count": 1082,
   "metadata": {},
   "outputs": [
    {
     "data": {
      "text/html": [
       "<div>\n",
       "<style scoped>\n",
       "    .dataframe tbody tr th:only-of-type {\n",
       "        vertical-align: middle;\n",
       "    }\n",
       "\n",
       "    .dataframe tbody tr th {\n",
       "        vertical-align: top;\n",
       "    }\n",
       "\n",
       "    .dataframe thead th {\n",
       "        text-align: right;\n",
       "    }\n",
       "</style>\n",
       "<table border=\"1\" class=\"dataframe\">\n",
       "  <thead>\n",
       "    <tr style=\"text-align: right;\">\n",
       "      <th></th>\n",
       "      <th>age</th>\n",
       "      <th>job</th>\n",
       "      <th>marital</th>\n",
       "      <th>education</th>\n",
       "      <th>default</th>\n",
       "      <th>housing</th>\n",
       "      <th>loan</th>\n",
       "      <th>contact</th>\n",
       "      <th>month</th>\n",
       "      <th>day_of_week</th>\n",
       "      <th>...</th>\n",
       "      <th>campaign</th>\n",
       "      <th>pdays</th>\n",
       "      <th>previous</th>\n",
       "      <th>poutcome</th>\n",
       "      <th>emp.var.rate</th>\n",
       "      <th>cons.price.idx</th>\n",
       "      <th>cons.conf.idx</th>\n",
       "      <th>euribor3m</th>\n",
       "      <th>nr.employed</th>\n",
       "      <th>y</th>\n",
       "    </tr>\n",
       "  </thead>\n",
       "  <tbody>\n",
       "    <tr>\n",
       "      <th>0</th>\n",
       "      <td>56</td>\n",
       "      <td>housemaid</td>\n",
       "      <td>married</td>\n",
       "      <td>basic.4y</td>\n",
       "      <td>no</td>\n",
       "      <td>no</td>\n",
       "      <td>no</td>\n",
       "      <td>telephone</td>\n",
       "      <td>may</td>\n",
       "      <td>mon</td>\n",
       "      <td>...</td>\n",
       "      <td>1</td>\n",
       "      <td>999</td>\n",
       "      <td>0</td>\n",
       "      <td>nonexistent</td>\n",
       "      <td>1.1</td>\n",
       "      <td>93.994</td>\n",
       "      <td>-36.4</td>\n",
       "      <td>4.857</td>\n",
       "      <td>5191.0</td>\n",
       "      <td>no</td>\n",
       "    </tr>\n",
       "    <tr>\n",
       "      <th>1</th>\n",
       "      <td>57</td>\n",
       "      <td>services</td>\n",
       "      <td>married</td>\n",
       "      <td>high.school</td>\n",
       "      <td>unknown</td>\n",
       "      <td>no</td>\n",
       "      <td>no</td>\n",
       "      <td>telephone</td>\n",
       "      <td>may</td>\n",
       "      <td>mon</td>\n",
       "      <td>...</td>\n",
       "      <td>1</td>\n",
       "      <td>999</td>\n",
       "      <td>0</td>\n",
       "      <td>nonexistent</td>\n",
       "      <td>1.1</td>\n",
       "      <td>93.994</td>\n",
       "      <td>-36.4</td>\n",
       "      <td>4.857</td>\n",
       "      <td>5191.0</td>\n",
       "      <td>no</td>\n",
       "    </tr>\n",
       "    <tr>\n",
       "      <th>2</th>\n",
       "      <td>37</td>\n",
       "      <td>services</td>\n",
       "      <td>married</td>\n",
       "      <td>high.school</td>\n",
       "      <td>no</td>\n",
       "      <td>yes</td>\n",
       "      <td>no</td>\n",
       "      <td>telephone</td>\n",
       "      <td>may</td>\n",
       "      <td>mon</td>\n",
       "      <td>...</td>\n",
       "      <td>1</td>\n",
       "      <td>999</td>\n",
       "      <td>0</td>\n",
       "      <td>nonexistent</td>\n",
       "      <td>1.1</td>\n",
       "      <td>93.994</td>\n",
       "      <td>-36.4</td>\n",
       "      <td>4.857</td>\n",
       "      <td>5191.0</td>\n",
       "      <td>no</td>\n",
       "    </tr>\n",
       "    <tr>\n",
       "      <th>3</th>\n",
       "      <td>40</td>\n",
       "      <td>admin.</td>\n",
       "      <td>married</td>\n",
       "      <td>basic.6y</td>\n",
       "      <td>no</td>\n",
       "      <td>no</td>\n",
       "      <td>no</td>\n",
       "      <td>telephone</td>\n",
       "      <td>may</td>\n",
       "      <td>mon</td>\n",
       "      <td>...</td>\n",
       "      <td>1</td>\n",
       "      <td>999</td>\n",
       "      <td>0</td>\n",
       "      <td>nonexistent</td>\n",
       "      <td>1.1</td>\n",
       "      <td>93.994</td>\n",
       "      <td>-36.4</td>\n",
       "      <td>4.857</td>\n",
       "      <td>5191.0</td>\n",
       "      <td>no</td>\n",
       "    </tr>\n",
       "    <tr>\n",
       "      <th>4</th>\n",
       "      <td>56</td>\n",
       "      <td>services</td>\n",
       "      <td>married</td>\n",
       "      <td>high.school</td>\n",
       "      <td>no</td>\n",
       "      <td>no</td>\n",
       "      <td>yes</td>\n",
       "      <td>telephone</td>\n",
       "      <td>may</td>\n",
       "      <td>mon</td>\n",
       "      <td>...</td>\n",
       "      <td>1</td>\n",
       "      <td>999</td>\n",
       "      <td>0</td>\n",
       "      <td>nonexistent</td>\n",
       "      <td>1.1</td>\n",
       "      <td>93.994</td>\n",
       "      <td>-36.4</td>\n",
       "      <td>4.857</td>\n",
       "      <td>5191.0</td>\n",
       "      <td>no</td>\n",
       "    </tr>\n",
       "  </tbody>\n",
       "</table>\n",
       "<p>5 rows × 21 columns</p>\n",
       "</div>"
      ],
      "text/plain": [
       "   age        job  marital    education  default housing loan    contact  \\\n",
       "0   56  housemaid  married     basic.4y       no      no   no  telephone   \n",
       "1   57   services  married  high.school  unknown      no   no  telephone   \n",
       "2   37   services  married  high.school       no     yes   no  telephone   \n",
       "3   40     admin.  married     basic.6y       no      no   no  telephone   \n",
       "4   56   services  married  high.school       no      no  yes  telephone   \n",
       "\n",
       "  month day_of_week  ...  campaign  pdays  previous     poutcome emp.var.rate  \\\n",
       "0   may         mon  ...         1    999         0  nonexistent          1.1   \n",
       "1   may         mon  ...         1    999         0  nonexistent          1.1   \n",
       "2   may         mon  ...         1    999         0  nonexistent          1.1   \n",
       "3   may         mon  ...         1    999         0  nonexistent          1.1   \n",
       "4   may         mon  ...         1    999         0  nonexistent          1.1   \n",
       "\n",
       "   cons.price.idx  cons.conf.idx  euribor3m  nr.employed   y  \n",
       "0          93.994          -36.4      4.857       5191.0  no  \n",
       "1          93.994          -36.4      4.857       5191.0  no  \n",
       "2          93.994          -36.4      4.857       5191.0  no  \n",
       "3          93.994          -36.4      4.857       5191.0  no  \n",
       "4          93.994          -36.4      4.857       5191.0  no  \n",
       "\n",
       "[5 rows x 21 columns]"
      ]
     },
     "execution_count": 1082,
     "metadata": {},
     "output_type": "execute_result"
    }
   ],
   "source": [
    "dt.head()"
   ]
  },
  {
   "cell_type": "markdown",
   "metadata": {},
   "source": [
    "#### Print the statistics of the dataset"
   ]
  },
  {
   "cell_type": "code",
   "execution_count": 1083,
   "metadata": {},
   "outputs": [
    {
     "data": {
      "text/html": [
       "<div>\n",
       "<style scoped>\n",
       "    .dataframe tbody tr th:only-of-type {\n",
       "        vertical-align: middle;\n",
       "    }\n",
       "\n",
       "    .dataframe tbody tr th {\n",
       "        vertical-align: top;\n",
       "    }\n",
       "\n",
       "    .dataframe thead th {\n",
       "        text-align: right;\n",
       "    }\n",
       "</style>\n",
       "<table border=\"1\" class=\"dataframe\">\n",
       "  <thead>\n",
       "    <tr style=\"text-align: right;\">\n",
       "      <th></th>\n",
       "      <th>age</th>\n",
       "      <th>duration</th>\n",
       "      <th>campaign</th>\n",
       "      <th>pdays</th>\n",
       "      <th>previous</th>\n",
       "      <th>emp.var.rate</th>\n",
       "      <th>cons.price.idx</th>\n",
       "      <th>cons.conf.idx</th>\n",
       "      <th>euribor3m</th>\n",
       "      <th>nr.employed</th>\n",
       "    </tr>\n",
       "  </thead>\n",
       "  <tbody>\n",
       "    <tr>\n",
       "      <th>count</th>\n",
       "      <td>41188.00000</td>\n",
       "      <td>41188.000000</td>\n",
       "      <td>41188.000000</td>\n",
       "      <td>41188.000000</td>\n",
       "      <td>41188.000000</td>\n",
       "      <td>41188.000000</td>\n",
       "      <td>41188.000000</td>\n",
       "      <td>41188.000000</td>\n",
       "      <td>41188.000000</td>\n",
       "      <td>41188.000000</td>\n",
       "    </tr>\n",
       "    <tr>\n",
       "      <th>mean</th>\n",
       "      <td>40.02406</td>\n",
       "      <td>258.285010</td>\n",
       "      <td>2.567593</td>\n",
       "      <td>962.475454</td>\n",
       "      <td>0.172963</td>\n",
       "      <td>0.081886</td>\n",
       "      <td>93.575664</td>\n",
       "      <td>-40.502600</td>\n",
       "      <td>3.621291</td>\n",
       "      <td>5167.035911</td>\n",
       "    </tr>\n",
       "    <tr>\n",
       "      <th>std</th>\n",
       "      <td>10.42125</td>\n",
       "      <td>259.279249</td>\n",
       "      <td>2.770014</td>\n",
       "      <td>186.910907</td>\n",
       "      <td>0.494901</td>\n",
       "      <td>1.570960</td>\n",
       "      <td>0.578840</td>\n",
       "      <td>4.628198</td>\n",
       "      <td>1.734447</td>\n",
       "      <td>72.251528</td>\n",
       "    </tr>\n",
       "    <tr>\n",
       "      <th>min</th>\n",
       "      <td>17.00000</td>\n",
       "      <td>0.000000</td>\n",
       "      <td>1.000000</td>\n",
       "      <td>0.000000</td>\n",
       "      <td>0.000000</td>\n",
       "      <td>-3.400000</td>\n",
       "      <td>92.201000</td>\n",
       "      <td>-50.800000</td>\n",
       "      <td>0.634000</td>\n",
       "      <td>4963.600000</td>\n",
       "    </tr>\n",
       "    <tr>\n",
       "      <th>25%</th>\n",
       "      <td>32.00000</td>\n",
       "      <td>102.000000</td>\n",
       "      <td>1.000000</td>\n",
       "      <td>999.000000</td>\n",
       "      <td>0.000000</td>\n",
       "      <td>-1.800000</td>\n",
       "      <td>93.075000</td>\n",
       "      <td>-42.700000</td>\n",
       "      <td>1.344000</td>\n",
       "      <td>5099.100000</td>\n",
       "    </tr>\n",
       "    <tr>\n",
       "      <th>50%</th>\n",
       "      <td>38.00000</td>\n",
       "      <td>180.000000</td>\n",
       "      <td>2.000000</td>\n",
       "      <td>999.000000</td>\n",
       "      <td>0.000000</td>\n",
       "      <td>1.100000</td>\n",
       "      <td>93.749000</td>\n",
       "      <td>-41.800000</td>\n",
       "      <td>4.857000</td>\n",
       "      <td>5191.000000</td>\n",
       "    </tr>\n",
       "    <tr>\n",
       "      <th>75%</th>\n",
       "      <td>47.00000</td>\n",
       "      <td>319.000000</td>\n",
       "      <td>3.000000</td>\n",
       "      <td>999.000000</td>\n",
       "      <td>0.000000</td>\n",
       "      <td>1.400000</td>\n",
       "      <td>93.994000</td>\n",
       "      <td>-36.400000</td>\n",
       "      <td>4.961000</td>\n",
       "      <td>5228.100000</td>\n",
       "    </tr>\n",
       "    <tr>\n",
       "      <th>max</th>\n",
       "      <td>98.00000</td>\n",
       "      <td>4918.000000</td>\n",
       "      <td>56.000000</td>\n",
       "      <td>999.000000</td>\n",
       "      <td>7.000000</td>\n",
       "      <td>1.400000</td>\n",
       "      <td>94.767000</td>\n",
       "      <td>-26.900000</td>\n",
       "      <td>5.045000</td>\n",
       "      <td>5228.100000</td>\n",
       "    </tr>\n",
       "  </tbody>\n",
       "</table>\n",
       "</div>"
      ],
      "text/plain": [
       "               age      duration      campaign         pdays      previous  \\\n",
       "count  41188.00000  41188.000000  41188.000000  41188.000000  41188.000000   \n",
       "mean      40.02406    258.285010      2.567593    962.475454      0.172963   \n",
       "std       10.42125    259.279249      2.770014    186.910907      0.494901   \n",
       "min       17.00000      0.000000      1.000000      0.000000      0.000000   \n",
       "25%       32.00000    102.000000      1.000000    999.000000      0.000000   \n",
       "50%       38.00000    180.000000      2.000000    999.000000      0.000000   \n",
       "75%       47.00000    319.000000      3.000000    999.000000      0.000000   \n",
       "max       98.00000   4918.000000     56.000000    999.000000      7.000000   \n",
       "\n",
       "       emp.var.rate  cons.price.idx  cons.conf.idx     euribor3m   nr.employed  \n",
       "count  41188.000000    41188.000000   41188.000000  41188.000000  41188.000000  \n",
       "mean       0.081886       93.575664     -40.502600      3.621291   5167.035911  \n",
       "std        1.570960        0.578840       4.628198      1.734447     72.251528  \n",
       "min       -3.400000       92.201000     -50.800000      0.634000   4963.600000  \n",
       "25%       -1.800000       93.075000     -42.700000      1.344000   5099.100000  \n",
       "50%        1.100000       93.749000     -41.800000      4.857000   5191.000000  \n",
       "75%        1.400000       93.994000     -36.400000      4.961000   5228.100000  \n",
       "max        1.400000       94.767000     -26.900000      5.045000   5228.100000  "
      ]
     },
     "execution_count": 1083,
     "metadata": {},
     "output_type": "execute_result"
    }
   ],
   "source": [
    "dt.describe()"
   ]
  },
  {
   "cell_type": "markdown",
   "metadata": {},
   "source": [
    "#### Check for missing values. There seems to be no missing values in the dataset"
   ]
  },
  {
   "cell_type": "code",
   "execution_count": 1084,
   "metadata": {},
   "outputs": [
    {
     "data": {
      "text/plain": [
       "age               0\n",
       "job               0\n",
       "marital           0\n",
       "education         0\n",
       "default           0\n",
       "housing           0\n",
       "loan              0\n",
       "contact           0\n",
       "month             0\n",
       "day_of_week       0\n",
       "duration          0\n",
       "campaign          0\n",
       "pdays             0\n",
       "previous          0\n",
       "poutcome          0\n",
       "emp.var.rate      0\n",
       "cons.price.idx    0\n",
       "cons.conf.idx     0\n",
       "euribor3m         0\n",
       "nr.employed       0\n",
       "y                 0\n",
       "dtype: int64"
      ]
     },
     "execution_count": 1084,
     "metadata": {},
     "output_type": "execute_result"
    }
   ],
   "source": [
    "dt.isnull().sum()"
   ]
  },
  {
   "cell_type": "markdown",
   "metadata": {},
   "source": [
    "### Exploratory Data Analysis"
   ]
  },
  {
   "cell_type": "markdown",
   "metadata": {},
   "source": [
    "Correlation Matrix for categorical columns is calculated first using Cramers_V. It is measure that depicts the relationship between two categorical columns. It uses Pearson's chi-squared statistic."
   ]
  },
  {
   "cell_type": "code",
   "execution_count": 1085,
   "metadata": {},
   "outputs": [],
   "source": [
    "num_cols=dt._get_numeric_data().columns #getting all the categorical columns of the dataset\n",
    "strin=[i for i in dt.columns if i not in num_cols] #storing them in a separate variable "
   ]
  },
  {
   "cell_type": "code",
   "execution_count": 1086,
   "metadata": {},
   "outputs": [],
   "source": [
    "cat_coeff=pd.DataFrame(columns=strin) #creating an empty dataframe to store the coefficients"
   ]
  },
  {
   "cell_type": "code",
   "execution_count": 1087,
   "metadata": {},
   "outputs": [
    {
     "data": {
      "text/html": [
       "<div>\n",
       "<style scoped>\n",
       "    .dataframe tbody tr th:only-of-type {\n",
       "        vertical-align: middle;\n",
       "    }\n",
       "\n",
       "    .dataframe tbody tr th {\n",
       "        vertical-align: top;\n",
       "    }\n",
       "\n",
       "    .dataframe thead th {\n",
       "        text-align: right;\n",
       "    }\n",
       "</style>\n",
       "<table border=\"1\" class=\"dataframe\">\n",
       "  <thead>\n",
       "    <tr style=\"text-align: right;\">\n",
       "      <th></th>\n",
       "      <th>job</th>\n",
       "      <th>marital</th>\n",
       "      <th>education</th>\n",
       "      <th>default</th>\n",
       "      <th>housing</th>\n",
       "      <th>loan</th>\n",
       "      <th>contact</th>\n",
       "      <th>month</th>\n",
       "      <th>day_of_week</th>\n",
       "      <th>poutcome</th>\n",
       "      <th>y</th>\n",
       "    </tr>\n",
       "  </thead>\n",
       "  <tbody>\n",
       "  </tbody>\n",
       "</table>\n",
       "</div>"
      ],
      "text/plain": [
       "Empty DataFrame\n",
       "Columns: [job, marital, education, default, housing, loan, contact, month, day_of_week, poutcome, y]\n",
       "Index: []"
      ]
     },
     "execution_count": 1087,
     "metadata": {},
     "output_type": "execute_result"
    }
   ],
   "source": [
    "cat_coeff"
   ]
  },
  {
   "cell_type": "code",
   "execution_count": 1088,
   "metadata": {},
   "outputs": [],
   "source": [
    "def cramers_v(x, y):\n",
    "    confusion_matrix = pd.crosstab(x,y)\n",
    "    chi2 = ss.chi2_contingency(confusion_matrix)[0]\n",
    "    n = confusion_matrix.sum().sum()\n",
    "    phi2 = chi2/n\n",
    "    r,k = confusion_matrix.shape\n",
    "    phi2corr = max(0, phi2-((k-1)*(r-1))/(n-1))\n",
    "    rcorr = r-((r-1)**2)/(n-1)\n",
    "    kcorr = k-((k-1)**2)/(n-1)\n",
    "    return np.sqrt(phi2corr/min((kcorr-1),(rcorr-1)))"
   ]
  },
  {
   "cell_type": "code",
   "execution_count": 1089,
   "metadata": {
    "scrolled": true
   },
   "outputs": [],
   "source": [
    "for i in cat_coeff: #iterating over the columns\n",
    "    l=[]\n",
    "    for j in cat_coeff:\n",
    "        coeff=cramers_v(dt[i],dt[j]) #calculating the cramer's measure for the columns\n",
    "        l.append(coeff)\n",
    "    cat_coeff.loc[len(cat_coeff)]=l\n",
    "cat_coeff.index=strin        #saving the coeffients in the dataframe"
   ]
  },
  {
   "cell_type": "markdown",
   "metadata": {},
   "source": [
    "The following are the coefficients of the categorical columns. A heatmap can now be generated to visualize their corlealtion"
   ]
  },
  {
   "cell_type": "code",
   "execution_count": 1090,
   "metadata": {},
   "outputs": [
    {
     "data": {
      "text/html": [
       "<div>\n",
       "<style scoped>\n",
       "    .dataframe tbody tr th:only-of-type {\n",
       "        vertical-align: middle;\n",
       "    }\n",
       "\n",
       "    .dataframe tbody tr th {\n",
       "        vertical-align: top;\n",
       "    }\n",
       "\n",
       "    .dataframe thead th {\n",
       "        text-align: right;\n",
       "    }\n",
       "</style>\n",
       "<table border=\"1\" class=\"dataframe\">\n",
       "  <thead>\n",
       "    <tr style=\"text-align: right;\">\n",
       "      <th></th>\n",
       "      <th>job</th>\n",
       "      <th>marital</th>\n",
       "      <th>education</th>\n",
       "      <th>default</th>\n",
       "      <th>housing</th>\n",
       "      <th>loan</th>\n",
       "      <th>contact</th>\n",
       "      <th>month</th>\n",
       "      <th>day_of_week</th>\n",
       "      <th>poutcome</th>\n",
       "      <th>y</th>\n",
       "    </tr>\n",
       "  </thead>\n",
       "  <tbody>\n",
       "    <tr>\n",
       "      <th>job</th>\n",
       "      <td>1.000000</td>\n",
       "      <td>0.183590</td>\n",
       "      <td>0.359526</td>\n",
       "      <td>0.152101</td>\n",
       "      <td>0.010630</td>\n",
       "      <td>0.010218</td>\n",
       "      <td>0.127856</td>\n",
       "      <td>0.109835</td>\n",
       "      <td>0.016458</td>\n",
       "      <td>0.099560</td>\n",
       "      <td>0.151893</td>\n",
       "    </tr>\n",
       "    <tr>\n",
       "      <th>marital</th>\n",
       "      <td>0.183590</td>\n",
       "      <td>1.000000</td>\n",
       "      <td>0.116240</td>\n",
       "      <td>0.095434</td>\n",
       "      <td>0.009170</td>\n",
       "      <td>0.000000</td>\n",
       "      <td>0.071993</td>\n",
       "      <td>0.050174</td>\n",
       "      <td>0.010888</td>\n",
       "      <td>0.036630</td>\n",
       "      <td>0.053900</td>\n",
       "    </tr>\n",
       "    <tr>\n",
       "      <th>education</th>\n",
       "      <td>0.359526</td>\n",
       "      <td>0.116240</td>\n",
       "      <td>1.000000</td>\n",
       "      <td>0.170355</td>\n",
       "      <td>0.013316</td>\n",
       "      <td>0.000000</td>\n",
       "      <td>0.123302</td>\n",
       "      <td>0.094718</td>\n",
       "      <td>0.019725</td>\n",
       "      <td>0.042282</td>\n",
       "      <td>0.067220</td>\n",
       "    </tr>\n",
       "    <tr>\n",
       "      <th>default</th>\n",
       "      <td>0.152101</td>\n",
       "      <td>0.095434</td>\n",
       "      <td>0.170355</td>\n",
       "      <td>1.000000</td>\n",
       "      <td>0.010573</td>\n",
       "      <td>0.001567</td>\n",
       "      <td>0.135554</td>\n",
       "      <td>0.111926</td>\n",
       "      <td>0.011314</td>\n",
       "      <td>0.076628</td>\n",
       "      <td>0.099111</td>\n",
       "    </tr>\n",
       "    <tr>\n",
       "      <th>housing</th>\n",
       "      <td>0.010630</td>\n",
       "      <td>0.009170</td>\n",
       "      <td>0.013316</td>\n",
       "      <td>0.010573</td>\n",
       "      <td>1.000000</td>\n",
       "      <td>0.707852</td>\n",
       "      <td>0.084603</td>\n",
       "      <td>0.054243</td>\n",
       "      <td>0.014635</td>\n",
       "      <td>0.016958</td>\n",
       "      <td>0.009458</td>\n",
       "    </tr>\n",
       "    <tr>\n",
       "      <th>loan</th>\n",
       "      <td>0.010218</td>\n",
       "      <td>0.000000</td>\n",
       "      <td>0.000000</td>\n",
       "      <td>0.001567</td>\n",
       "      <td>0.707852</td>\n",
       "      <td>1.000000</td>\n",
       "      <td>0.024206</td>\n",
       "      <td>0.019830</td>\n",
       "      <td>0.006104</td>\n",
       "      <td>0.000000</td>\n",
       "      <td>0.000000</td>\n",
       "    </tr>\n",
       "    <tr>\n",
       "      <th>contact</th>\n",
       "      <td>0.127856</td>\n",
       "      <td>0.071993</td>\n",
       "      <td>0.123302</td>\n",
       "      <td>0.135554</td>\n",
       "      <td>0.084603</td>\n",
       "      <td>0.024206</td>\n",
       "      <td>0.999948</td>\n",
       "      <td>0.609087</td>\n",
       "      <td>0.054906</td>\n",
       "      <td>0.242419</td>\n",
       "      <td>0.144611</td>\n",
       "    </tr>\n",
       "    <tr>\n",
       "      <th>month</th>\n",
       "      <td>0.109835</td>\n",
       "      <td>0.050174</td>\n",
       "      <td>0.094718</td>\n",
       "      <td>0.111926</td>\n",
       "      <td>0.054243</td>\n",
       "      <td>0.019830</td>\n",
       "      <td>0.609087</td>\n",
       "      <td>1.000000</td>\n",
       "      <td>0.066569</td>\n",
       "      <td>0.242400</td>\n",
       "      <td>0.274000</td>\n",
       "    </tr>\n",
       "    <tr>\n",
       "      <th>day_of_week</th>\n",
       "      <td>0.016458</td>\n",
       "      <td>0.010888</td>\n",
       "      <td>0.019725</td>\n",
       "      <td>0.011314</td>\n",
       "      <td>0.014635</td>\n",
       "      <td>0.006104</td>\n",
       "      <td>0.054906</td>\n",
       "      <td>0.066569</td>\n",
       "      <td>1.000000</td>\n",
       "      <td>0.014579</td>\n",
       "      <td>0.023188</td>\n",
       "    </tr>\n",
       "    <tr>\n",
       "      <th>poutcome</th>\n",
       "      <td>0.099560</td>\n",
       "      <td>0.036630</td>\n",
       "      <td>0.042282</td>\n",
       "      <td>0.076628</td>\n",
       "      <td>0.016958</td>\n",
       "      <td>0.000000</td>\n",
       "      <td>0.242419</td>\n",
       "      <td>0.242400</td>\n",
       "      <td>0.014579</td>\n",
       "      <td>1.000000</td>\n",
       "      <td>0.320416</td>\n",
       "    </tr>\n",
       "    <tr>\n",
       "      <th>y</th>\n",
       "      <td>0.151893</td>\n",
       "      <td>0.053900</td>\n",
       "      <td>0.067220</td>\n",
       "      <td>0.099111</td>\n",
       "      <td>0.009458</td>\n",
       "      <td>0.000000</td>\n",
       "      <td>0.144611</td>\n",
       "      <td>0.274000</td>\n",
       "      <td>0.023188</td>\n",
       "      <td>0.320416</td>\n",
       "      <td>0.999879</td>\n",
       "    </tr>\n",
       "  </tbody>\n",
       "</table>\n",
       "</div>"
      ],
      "text/plain": [
       "                  job   marital  education   default   housing      loan  \\\n",
       "job          1.000000  0.183590   0.359526  0.152101  0.010630  0.010218   \n",
       "marital      0.183590  1.000000   0.116240  0.095434  0.009170  0.000000   \n",
       "education    0.359526  0.116240   1.000000  0.170355  0.013316  0.000000   \n",
       "default      0.152101  0.095434   0.170355  1.000000  0.010573  0.001567   \n",
       "housing      0.010630  0.009170   0.013316  0.010573  1.000000  0.707852   \n",
       "loan         0.010218  0.000000   0.000000  0.001567  0.707852  1.000000   \n",
       "contact      0.127856  0.071993   0.123302  0.135554  0.084603  0.024206   \n",
       "month        0.109835  0.050174   0.094718  0.111926  0.054243  0.019830   \n",
       "day_of_week  0.016458  0.010888   0.019725  0.011314  0.014635  0.006104   \n",
       "poutcome     0.099560  0.036630   0.042282  0.076628  0.016958  0.000000   \n",
       "y            0.151893  0.053900   0.067220  0.099111  0.009458  0.000000   \n",
       "\n",
       "              contact     month  day_of_week  poutcome         y  \n",
       "job          0.127856  0.109835     0.016458  0.099560  0.151893  \n",
       "marital      0.071993  0.050174     0.010888  0.036630  0.053900  \n",
       "education    0.123302  0.094718     0.019725  0.042282  0.067220  \n",
       "default      0.135554  0.111926     0.011314  0.076628  0.099111  \n",
       "housing      0.084603  0.054243     0.014635  0.016958  0.009458  \n",
       "loan         0.024206  0.019830     0.006104  0.000000  0.000000  \n",
       "contact      0.999948  0.609087     0.054906  0.242419  0.144611  \n",
       "month        0.609087  1.000000     0.066569  0.242400  0.274000  \n",
       "day_of_week  0.054906  0.066569     1.000000  0.014579  0.023188  \n",
       "poutcome     0.242419  0.242400     0.014579  1.000000  0.320416  \n",
       "y            0.144611  0.274000     0.023188  0.320416  0.999879  "
      ]
     },
     "execution_count": 1090,
     "metadata": {},
     "output_type": "execute_result"
    }
   ],
   "source": [
    "cat_coeff"
   ]
  },
  {
   "cell_type": "markdown",
   "metadata": {},
   "source": [
    "The heatmap below depicts the corelation between the features. The lighter the color, the more the corelation among the features. For instance, 'housing' and 'loan' are highly corelated which validates the fact that a person who has a home loan has a higher change of having a personal loan as well. There is correlation between the method of contact and the month as well but this relationship doesn't have a significant meaning. \n",
    "However, there is one interesting relationship between the previous campaign outcome (poutcome) and the target variable. The clients who have made a term deposit in the previous campaign are more likely to make a deposit in this campaign as well. "
   ]
  },
  {
   "cell_type": "code",
   "execution_count": 1091,
   "metadata": {},
   "outputs": [
    {
     "data": {
      "image/png": "[encoded data removed]",
      "text/plain": [
       "<Figure size 720x720 with 2 Axes>"
      ]
     },
     "metadata": {
      "needs_background": "light"
     },
     "output_type": "display_data"
    }
   ],
   "source": [
    "plt.figure(figsize=(10,10)) #plot size\n",
    "sns.heatmap(cat_coeff,annot=True).set_title(\"Corelation between categorical features\")\n",
    "plt.show()"
   ]
  },
  {
   "cell_type": "markdown",
   "metadata": {},
   "source": [
    "The below correlation matrix visualizes the relationship between the numeric values. The features 'euribor3m' and  'emp.var.rate' seem to the very highest correlation between them. The Euro Interbank Offered Rate (Euribor) is highly dependent on the number of employees. as well The consumer price index also has a dependability with the employment variation rate, euribor3 and number of employees. "
   ]
  },
  {
   "cell_type": "code",
   "execution_count": 1092,
   "metadata": {},
   "outputs": [
    {
     "data": {
      "image/png": "[encoded data removed]",
      "text/plain": [
       "<Figure size 720x720 with 2 Axes>"
      ]
     },
     "metadata": {
      "needs_background": "light"
     },
     "output_type": "display_data"
    }
   ],
   "source": [
    "plt.figure(figsize=(10,10))\n",
    "sns.heatmap(dt.corr(),annot=True,vmin=0,vmax=1).set_title(\"Corelation between numeric values\")\n",
    "plt.show()"
   ]
  },
  {
   "cell_type": "markdown",
   "metadata": {},
   "source": [
    "The visualization below shows the distribution of the age feature. It can be noted that there a lot of clients within the age range of 20-50. This age group has made the highest number of term deposits in the bank. At the same time, this age group has the highest number of clients who haven't made any deposits as well. "
   ]
  },
  {
   "cell_type": "code",
   "execution_count": 1094,
   "metadata": {},
   "outputs": [
    {
     "data": {
      "text/plain": [
       "Text(0.5, 1.0, 'Age Distribution with respect to making a term deposit (target)')"
      ]
     },
     "execution_count": 1094,
     "metadata": {},
     "output_type": "execute_result"
    },
    {
     "data": {
      "image/png": "[encoded data removed]",
      "text/plain": [
       "<Figure size 1800x720 with 1 Axes>"
      ]
     },
     "metadata": {
      "needs_background": "light"
     },
     "output_type": "display_data"
    }
   ],
   "source": [
    "plt.figure(figsize=(25,10))\n",
    "sns.countplot(dt[\"age\"],hue=dt[\"y\"]).set_title(\"Age Distribution with respect to making a term deposit (target)\")"
   ]
  },
  {
   "cell_type": "markdown",
   "metadata": {},
   "source": [
    "Following plot shows the number of clients with their education level and whether they deposit the term deposit or not. It can be seen that clients who are highly educated (high school and university degree) are the highest number of people who make a term deposit when compared to other clients with other education level."
   ]
  },
  {
   "cell_type": "code",
   "execution_count": 1095,
   "metadata": {},
   "outputs": [],
   "source": [
    "ct=pd.crosstab(dt[\"education\"],dt[\"y\"])"
   ]
  },
  {
   "cell_type": "code",
   "execution_count": 1096,
   "metadata": {},
   "outputs": [
    {
     "data": {
      "image/png": "[encoded data removed]",
      "text/plain": [
       "<Figure size 720x720 with 1 Axes>"
      ]
     },
     "metadata": {
      "needs_background": "light"
     },
     "output_type": "display_data"
    }
   ],
   "source": [
    "ct.plot.bar(stacked=True,figsize=(10,10))\n",
    "plt.title(\"Clients making a deposit based on their Education\")\n",
    "plt.ylabel(\"Frequency\")\n",
    "plt.show()"
   ]
  },
  {
   "cell_type": "markdown",
   "metadata": {},
   "source": [
    "Following plot shows that people with personal loans don't make a term deposit in the bank. "
   ]
  },
  {
   "cell_type": "code",
   "execution_count": 1097,
   "metadata": {},
   "outputs": [],
   "source": [
    "ct=pd.crosstab(dt[\"loan\"],dt[\"y\"])"
   ]
  },
  {
   "cell_type": "code",
   "execution_count": 1098,
   "metadata": {},
   "outputs": [
    {
     "data": {
      "text/plain": [
       "Text(0, 0.5, 'Frequency')"
      ]
     },
     "execution_count": 1098,
     "metadata": {},
     "output_type": "execute_result"
    },
    {
     "data": {
      "image/png": "[encoded data removed]",
      "text/plain": [
       "<Figure size 720x720 with 1 Axes>"
      ]
     },
     "metadata": {
      "needs_background": "light"
     },
     "output_type": "display_data"
    }
   ],
   "source": [
    "ct.plot.bar(stacked=True,figsize=(10,10))\n",
    "plt.title(\"Clients making a deposit based on their Education\")\n",
    "plt.ylabel(\"Frequency\")\n"
   ]
  },
  {
   "cell_type": "markdown",
   "metadata": {},
   "source": [
    "Below is an interesting visualization depicting that the higher the amount of time spent in contacting the client, the higher the chance of making a term deposit. The median of 'yes' class is clearly higher than the median of 'no' class.It can also be noted that there a lot of outliers in the 'duration' attribute. "
   ]
  },
  {
   "cell_type": "code",
   "execution_count": 1099,
   "metadata": {},
   "outputs": [
    {
     "data": {
      "text/plain": [
       "Text(0.5, 1.0, 'Making a term deposit VS Time spent on contacting the client')"
      ]
     },
     "execution_count": 1099,
     "metadata": {},
     "output_type": "execute_result"
    },
    {
     "data": {
      "image/png": "[encoded data removed]",
      "text/plain": [
       "<Figure size 720x360 with 1 Axes>"
      ]
     },
     "metadata": {
      "needs_background": "light"
     },
     "output_type": "display_data"
    }
   ],
   "source": [
    "plt.figure(figsize=(10,5))\n",
    "sns.boxplot(x=dt[\"y\"],y=dt[\"duration\"]) .set_title(\"Making a term deposit VS Time spent on contacting the client\")"
   ]
  },
  {
   "cell_type": "markdown",
   "metadata": {},
   "source": [
    "There is a higher chance of a client making the term deposit if he/she was contacted in the last campaign. This relationship is clear from the below graph as well the correlation matrix generated previously in this notebook."
   ]
  },
  {
   "cell_type": "code",
   "execution_count": 1100,
   "metadata": {},
   "outputs": [
    {
     "data": {
      "text/plain": [
       "Text(0.5, 1.0, 'Poutcome VS Making a deposit')"
      ]
     },
     "execution_count": 1100,
     "metadata": {},
     "output_type": "execute_result"
    },
    {
     "data": {
      "image/png": "[encoded data removed]",
      "text/plain": [
       "<Figure size 720x720 with 1 Axes>"
      ]
     },
     "metadata": {
      "needs_background": "light"
     },
     "output_type": "display_data"
    }
   ],
   "source": [
    "fig=plt.figure(figsize=(10,10))\n",
    "sns.barplot(x=dt[\"y\"],y=dt[\"previous\"]).set_title(\"Poutcome VS Making a deposit\")"
   ]
  },
  {
   "cell_type": "markdown",
   "metadata": {},
   "source": [
    "This is an intersting plot as well. It depicts the relationship between the client making a deposit and the duration a client contacts and the outcome of the previous campaign as well. Although it visualizes the same kind of relationship as in the last two plots, there is one difference which is the classes of the 'poutcome' variable. In the previous plot, we could not tell the outcome. We just had the count of clients contacted previously in the last campaign. Below graph shows that there is a significant number of clients who are likely to make a term deposit this campaign because they deposited in the last campaign as well. "
   ]
  },
  {
   "cell_type": "code",
   "execution_count": 1101,
   "metadata": {},
   "outputs": [
    {
     "data": {
      "text/plain": [
       "Text(0.5, 1, 'Duration VS Making a deposit')"
      ]
     },
     "execution_count": 1101,
     "metadata": {},
     "output_type": "execute_result"
    },
    {
     "data": {
      "text/plain": [
       "<Figure size 720x720 with 0 Axes>"
      ]
     },
     "metadata": {},
     "output_type": "display_data"
    },
    {
     "data": {
      "image/png": "[encoded data removed]",
      "text/plain": [
       "<Figure size 455.125x360 with 1 Axes>"
      ]
     },
     "metadata": {
      "needs_background": "light"
     },
     "output_type": "display_data"
    }
   ],
   "source": [
    "fig=plt.figure(figsize=(10,10))\n",
    "sns.catplot(x=\"y\", y=\"duration\",hue=\"poutcome\",data=dt,palette=sns.color_palette(\"Set1\"))\n",
    "plt.title(\"Duration VS Making a deposit\")"
   ]
  },
  {
   "cell_type": "markdown",
   "metadata": {},
   "source": [
    "Checking for skewenss in the data. Skewness is a measure of  how asymmetric the data is about its mean value. The data can be left skewed and right skewed. For instance, the \"campaign\" data can be said to be skewed. Such data shouldn't be included in model training as it can bring a bias. One more think to note is there are approximately 40k clients with the same number of pdays. These 40k values have been imputed for missing values"
   ]
  },
  {
   "cell_type": "code",
   "execution_count": 1102,
   "metadata": {},
   "outputs": [
    {
     "name": "stderr",
     "output_type": "stream",
     "text": [
      "/Users/ksaini/opt/anaconda3/lib/python3.7/site-packages/ipykernel_launcher.py:3: UserWarning: To output multiple subplots, the figure containing the passed axes is being cleared\n",
      "  This is separate from the ipykernel package so we can avoid doing imports until\n"
     ]
    },
    {
     "data": {
      "image/png": "[encoded data removed]",
      "text/plain": [
       "<Figure size 1080x1080 with 12 Axes>"
      ]
     },
     "metadata": {
      "needs_background": "light"
     },
     "output_type": "display_data"
    }
   ],
   "source": [
    "fig=plt.figure(figsize=(15,15))\n",
    "ax=fig.gca()\n",
    "dt.hist(ax=ax) \n",
    "plt.show()"
   ]
  },
  {
   "cell_type": "markdown",
   "metadata": {},
   "source": [
    "Outliers can be determined by boxplots, IQR value, Z-score and scatter plots. I'm using the Z-scores method here. Z-score of each data point depicts how mant standard deviations away it is from the mean value. So, if the z-score is 3 times away from the mean value, the data point is considered as an outlier. "
   ]
  },
  {
   "cell_type": "code",
   "execution_count": 1103,
   "metadata": {},
   "outputs": [
    {
     "name": "stdout",
     "output_type": "stream",
     "text": [
      "[[1.53303429 0.01047142 0.56592197 ... 0.88644656 0.71245988 0.33167991]\n",
      " [1.62899323 0.42150051 0.56592197 ... 0.88644656 0.71245988 0.33167991]\n",
      " [0.29018564 0.12451981 0.56592197 ... 0.88644656 0.71245988 0.33167991]\n",
      " ...\n",
      " [1.53303429 0.26722482 0.20490853 ... 2.22495344 1.49518647 2.8156966 ]\n",
      " [0.38152696 0.70856893 0.56592197 ... 2.22495344 1.49518647 2.8156966 ]\n",
      " [3.26029527 0.07438021 0.15610492 ... 2.22495344 1.49518647 2.8156966 ]]\n"
     ]
    }
   ],
   "source": [
    "z=np.abs(ss.zscore(dt[num_cols]))\n",
    "print(z)"
   ]
  },
  {
   "cell_type": "markdown",
   "metadata": {},
   "source": [
    "Here we set a threshold as 3. So, any data point beyond (threshold * mean) will be considered as an outlier (positive and negative). All those outliers are stored in a list "
   ]
  },
  {
   "cell_type": "code",
   "execution_count": 1104,
   "metadata": {},
   "outputs": [],
   "source": [
    "threshold=3\n",
    "outliers=np.where(z>3)\n",
    "outliers=list(outliers)"
   ]
  },
  {
   "cell_type": "markdown",
   "metadata": {},
   "source": [
    "The outliers are stored in a dataframe. This dataframe will one row with the column index that would contain an outlier. For instance, the second row will be '0' for example, this means that there is one outlier in the 0th column of the main dataframe. The below plot shows that the initial columns don't contain many outliers when compared to the farther columns. "
   ]
  },
  {
   "cell_type": "code",
   "execution_count": 1105,
   "metadata": {},
   "outputs": [],
   "source": [
    "df=pd.DataFrame(outliers)\n",
    "df=df.T\n",
    "df.columns=[\"row\",\"column\"]\n",
    "df=df.sort_values(by=\"column\",axis=0) \n",
    "df=df.reset_index(drop=True)"
   ]
  },
  {
   "cell_type": "markdown",
   "metadata": {},
   "source": [
    "Shows the distribution of the number of outliers in the rows of the dataframe.  "
   ]
  },
  {
   "cell_type": "code",
   "execution_count": 1106,
   "metadata": {},
   "outputs": [
    {
     "data": {
      "image/png": "[encoded data removed]",
      "text/plain": [
       "<Figure size 432x288 with 1 Axes>"
      ]
     },
     "metadata": {
      "needs_background": "light"
     },
     "output_type": "display_data"
    }
   ],
   "source": [
    "df[\"row\"].hist()\n",
    "plt.title(\"Number of outliers\")\n",
    "plt.xlabel(\"Records\")\n",
    "plt.ylabel(\"count\")\n",
    "plt.show()"
   ]
  },
  {
   "cell_type": "markdown",
   "metadata": {},
   "source": [
    "This graph shows the columns that have outliers. Education column seems to have the highest nummber of outliers."
   ]
  },
  {
   "cell_type": "code",
   "execution_count": 1107,
   "metadata": {},
   "outputs": [
    {
     "data": {
      "image/png": "[encoded data removed]",
      "text/plain": [
       "<Figure size 432x288 with 1 Axes>"
      ]
     },
     "metadata": {
      "needs_background": "light"
     },
     "output_type": "display_data"
    }
   ],
   "source": [
    "df[\"column\"].hist()\n",
    "plt.xticks([0,1,2,3,4],dt[:df[\"column\"].max()+1])\n",
    "plt.xlabel(\"Columns\")\n",
    "plt.ylabel(\"count\")\n",
    "plt.show()"
   ]
  },
  {
   "cell_type": "markdown",
   "metadata": {},
   "source": [
    "### Feature Engineering "
   ]
  },
  {
   "cell_type": "markdown",
   "metadata": {},
   "source": [
    "Check for skewness using skew function"
   ]
  },
  {
   "cell_type": "code",
   "execution_count": 1108,
   "metadata": {},
   "outputs": [
    {
     "data": {
      "text/plain": [
       "age               0.784697\n",
       "duration          3.263141\n",
       "campaign          4.762507\n",
       "pdays            -4.922190\n",
       "previous          3.832042\n",
       "emp.var.rate     -0.724096\n",
       "cons.price.idx   -0.230888\n",
       "cons.conf.idx     0.303180\n",
       "euribor3m        -0.709188\n",
       "nr.employed      -1.044262\n",
       "dtype: float64"
      ]
     },
     "execution_count": 1108,
     "metadata": {},
     "output_type": "execute_result"
    }
   ],
   "source": [
    "dt.skew(axis=0)"
   ]
  },
  {
   "cell_type": "markdown",
   "metadata": {},
   "source": [
    "Log Transformation to remove the skewness"
   ]
  },
  {
   "cell_type": "code",
   "execution_count": 1109,
   "metadata": {},
   "outputs": [],
   "source": [
    "dt[\"Log_duration\"]=(dt[\"duration\"]+1).transform(np.log)"
   ]
  },
  {
   "cell_type": "code",
   "execution_count": 1110,
   "metadata": {},
   "outputs": [],
   "source": [
    "dt[\"Log_campaign\"]=(dt[\"campaign\"]+1).transform(np.log)"
   ]
  },
  {
   "cell_type": "code",
   "execution_count": 1111,
   "metadata": {},
   "outputs": [],
   "source": [
    "dt[\"Log_pdays\"]=(dt[\"pdays\"]+1).transform(np.log)"
   ]
  },
  {
   "cell_type": "code",
   "execution_count": 1112,
   "metadata": {},
   "outputs": [],
   "source": [
    "dt[\"Log_previous\"]=(dt[\"previous\"]+1).transform(np.log)"
   ]
  },
  {
   "cell_type": "code",
   "execution_count": 1113,
   "metadata": {},
   "outputs": [],
   "source": [
    "dt[\"Log_nr.employed\"]=(dt[\"nr.employed\"]+1).transform(np.log)"
   ]
  },
  {
   "cell_type": "markdown",
   "metadata": {},
   "source": [
    "Printing the histograms again"
   ]
  },
  {
   "cell_type": "code",
   "execution_count": 1114,
   "metadata": {
    "scrolled": false
   },
   "outputs": [
    {
     "name": "stderr",
     "output_type": "stream",
     "text": [
      "/Users/ksaini/opt/anaconda3/lib/python3.7/site-packages/ipykernel_launcher.py:3: UserWarning: To output multiple subplots, the figure containing the passed axes is being cleared\n",
      "  This is separate from the ipykernel package so we can avoid doing imports until\n"
     ]
    },
    {
     "data": {
      "image/png": "[encoded data removed]",
      "text/plain": [
       "<Figure size 1080x1080 with 16 Axes>"
      ]
     },
     "metadata": {
      "needs_background": "light"
     },
     "output_type": "display_data"
    }
   ],
   "source": [
    "fig=plt.figure(figsize=(15,15))\n",
    "ax=fig.gca()\n",
    "dt.hist(ax=ax) \n",
    "plt.show()"
   ]
  },
  {
   "cell_type": "markdown",
   "metadata": {},
   "source": [
    "Checking the skewness of data again. We can see that the skewness is not entirely eliminated but it is definitely reduced."
   ]
  },
  {
   "cell_type": "code",
   "execution_count": 1115,
   "metadata": {},
   "outputs": [
    {
     "data": {
      "text/plain": [
       "age                0.784697\n",
       "duration           3.263141\n",
       "campaign           4.762507\n",
       "pdays             -4.922190\n",
       "previous           3.832042\n",
       "emp.var.rate      -0.724096\n",
       "cons.price.idx    -0.230888\n",
       "cons.conf.idx      0.303180\n",
       "euribor3m         -0.709188\n",
       "nr.employed       -1.044262\n",
       "Log_duration      -0.421327\n",
       "Log_campaign       1.350403\n",
       "Log_pdays         -5.006022\n",
       "Log_previous       2.587040\n",
       "Log_nr.employed   -1.063661\n",
       "dtype: float64"
      ]
     },
     "execution_count": 1115,
     "metadata": {},
     "output_type": "execute_result"
    }
   ],
   "source": [
    "dt.skew(axis=0)"
   ]
  },
  {
   "cell_type": "markdown",
   "metadata": {},
   "source": [
    "Following statements update the original dataframe"
   ]
  },
  {
   "cell_type": "code",
   "execution_count": 1116,
   "metadata": {},
   "outputs": [],
   "source": [
    "dt=dt.drop([\"campaign\",\"pdays\",\"previous\",\"nr.employed\",\"duration\"],axis=1)"
   ]
  },
  {
   "cell_type": "code",
   "execution_count": 1117,
   "metadata": {
    "scrolled": true
   },
   "outputs": [
    {
     "data": {
      "text/plain": [
       "Index(['age', 'job', 'marital', 'education', 'default', 'housing', 'loan',\n",
       "       'contact', 'month', 'day_of_week', 'poutcome', 'emp.var.rate',\n",
       "       'cons.price.idx', 'cons.conf.idx', 'euribor3m', 'y', 'Log_duration',\n",
       "       'Log_campaign', 'Log_pdays', 'Log_previous', 'Log_nr.employed'],\n",
       "      dtype='object')"
      ]
     },
     "execution_count": 1117,
     "metadata": {},
     "output_type": "execute_result"
    }
   ],
   "source": [
    "dt.columns"
   ]
  },
  {
   "cell_type": "code",
   "execution_count": 1118,
   "metadata": {},
   "outputs": [
    {
     "data": {
      "text/html": [
       "<div>\n",
       "<style scoped>\n",
       "    .dataframe tbody tr th:only-of-type {\n",
       "        vertical-align: middle;\n",
       "    }\n",
       "\n",
       "    .dataframe tbody tr th {\n",
       "        vertical-align: top;\n",
       "    }\n",
       "\n",
       "    .dataframe thead th {\n",
       "        text-align: right;\n",
       "    }\n",
       "</style>\n",
       "<table border=\"1\" class=\"dataframe\">\n",
       "  <thead>\n",
       "    <tr style=\"text-align: right;\">\n",
       "      <th></th>\n",
       "      <th>age</th>\n",
       "      <th>emp.var.rate</th>\n",
       "      <th>cons.price.idx</th>\n",
       "      <th>cons.conf.idx</th>\n",
       "      <th>euribor3m</th>\n",
       "      <th>Log_duration</th>\n",
       "      <th>Log_campaign</th>\n",
       "      <th>Log_pdays</th>\n",
       "      <th>Log_previous</th>\n",
       "      <th>Log_nr.employed</th>\n",
       "    </tr>\n",
       "  </thead>\n",
       "  <tbody>\n",
       "    <tr>\n",
       "      <th>count</th>\n",
       "      <td>41188.00000</td>\n",
       "      <td>41188.000000</td>\n",
       "      <td>41188.000000</td>\n",
       "      <td>41188.000000</td>\n",
       "      <td>41188.000000</td>\n",
       "      <td>41188.000000</td>\n",
       "      <td>41188.000000</td>\n",
       "      <td>41188.000000</td>\n",
       "      <td>41188.000000</td>\n",
       "      <td>41188.000000</td>\n",
       "    </tr>\n",
       "    <tr>\n",
       "      <th>mean</th>\n",
       "      <td>40.02406</td>\n",
       "      <td>0.081886</td>\n",
       "      <td>93.575664</td>\n",
       "      <td>-40.502600</td>\n",
       "      <td>3.621291</td>\n",
       "      <td>5.173036</td>\n",
       "      <td>1.118991</td>\n",
       "      <td>6.720450</td>\n",
       "      <td>0.107943</td>\n",
       "      <td>8.550149</td>\n",
       "    </tr>\n",
       "    <tr>\n",
       "      <th>std</th>\n",
       "      <td>10.42125</td>\n",
       "      <td>1.570960</td>\n",
       "      <td>0.578840</td>\n",
       "      <td>4.628198</td>\n",
       "      <td>1.734447</td>\n",
       "      <td>0.916938</td>\n",
       "      <td>0.491402</td>\n",
       "      <td>0.963613</td>\n",
       "      <td>0.283014</td>\n",
       "      <td>0.014086</td>\n",
       "    </tr>\n",
       "    <tr>\n",
       "      <th>min</th>\n",
       "      <td>17.00000</td>\n",
       "      <td>-3.400000</td>\n",
       "      <td>92.201000</td>\n",
       "      <td>-50.800000</td>\n",
       "      <td>0.634000</td>\n",
       "      <td>0.000000</td>\n",
       "      <td>0.693147</td>\n",
       "      <td>0.000000</td>\n",
       "      <td>0.000000</td>\n",
       "      <td>8.510088</td>\n",
       "    </tr>\n",
       "    <tr>\n",
       "      <th>25%</th>\n",
       "      <td>32.00000</td>\n",
       "      <td>-1.800000</td>\n",
       "      <td>93.075000</td>\n",
       "      <td>-42.700000</td>\n",
       "      <td>1.344000</td>\n",
       "      <td>4.634729</td>\n",
       "      <td>0.693147</td>\n",
       "      <td>6.907755</td>\n",
       "      <td>0.000000</td>\n",
       "      <td>8.537015</td>\n",
       "    </tr>\n",
       "    <tr>\n",
       "      <th>50%</th>\n",
       "      <td>38.00000</td>\n",
       "      <td>1.100000</td>\n",
       "      <td>93.749000</td>\n",
       "      <td>-41.800000</td>\n",
       "      <td>4.857000</td>\n",
       "      <td>5.198497</td>\n",
       "      <td>1.098612</td>\n",
       "      <td>6.907755</td>\n",
       "      <td>0.000000</td>\n",
       "      <td>8.554874</td>\n",
       "    </tr>\n",
       "    <tr>\n",
       "      <th>75%</th>\n",
       "      <td>47.00000</td>\n",
       "      <td>1.400000</td>\n",
       "      <td>93.994000</td>\n",
       "      <td>-36.400000</td>\n",
       "      <td>4.961000</td>\n",
       "      <td>5.768321</td>\n",
       "      <td>1.386294</td>\n",
       "      <td>6.907755</td>\n",
       "      <td>0.000000</td>\n",
       "      <td>8.561994</td>\n",
       "    </tr>\n",
       "    <tr>\n",
       "      <th>max</th>\n",
       "      <td>98.00000</td>\n",
       "      <td>1.400000</td>\n",
       "      <td>94.767000</td>\n",
       "      <td>-26.900000</td>\n",
       "      <td>5.045000</td>\n",
       "      <td>8.500861</td>\n",
       "      <td>4.043051</td>\n",
       "      <td>6.907755</td>\n",
       "      <td>2.079442</td>\n",
       "      <td>8.561994</td>\n",
       "    </tr>\n",
       "  </tbody>\n",
       "</table>\n",
       "</div>"
      ],
      "text/plain": [
       "               age  emp.var.rate  cons.price.idx  cons.conf.idx     euribor3m  \\\n",
       "count  41188.00000  41188.000000    41188.000000   41188.000000  41188.000000   \n",
       "mean      40.02406      0.081886       93.575664     -40.502600      3.621291   \n",
       "std       10.42125      1.570960        0.578840       4.628198      1.734447   \n",
       "min       17.00000     -3.400000       92.201000     -50.800000      0.634000   \n",
       "25%       32.00000     -1.800000       93.075000     -42.700000      1.344000   \n",
       "50%       38.00000      1.100000       93.749000     -41.800000      4.857000   \n",
       "75%       47.00000      1.400000       93.994000     -36.400000      4.961000   \n",
       "max       98.00000      1.400000       94.767000     -26.900000      5.045000   \n",
       "\n",
       "       Log_duration  Log_campaign     Log_pdays  Log_previous  Log_nr.employed  \n",
       "count  41188.000000  41188.000000  41188.000000  41188.000000     41188.000000  \n",
       "mean       5.173036      1.118991      6.720450      0.107943         8.550149  \n",
       "std        0.916938      0.491402      0.963613      0.283014         0.014086  \n",
       "min        0.000000      0.693147      0.000000      0.000000         8.510088  \n",
       "25%        4.634729      0.693147      6.907755      0.000000         8.537015  \n",
       "50%        5.198497      1.098612      6.907755      0.000000         8.554874  \n",
       "75%        5.768321      1.386294      6.907755      0.000000         8.561994  \n",
       "max        8.500861      4.043051      6.907755      2.079442         8.561994  "
      ]
     },
     "execution_count": 1118,
     "metadata": {},
     "output_type": "execute_result"
    }
   ],
   "source": [
    "dt.describe()"
   ]
  },
  {
   "cell_type": "code",
   "execution_count": 1119,
   "metadata": {},
   "outputs": [
    {
     "data": {
      "text/html": [
       "<div>\n",
       "<style scoped>\n",
       "    .dataframe tbody tr th:only-of-type {\n",
       "        vertical-align: middle;\n",
       "    }\n",
       "\n",
       "    .dataframe tbody tr th {\n",
       "        vertical-align: top;\n",
       "    }\n",
       "\n",
       "    .dataframe thead th {\n",
       "        text-align: right;\n",
       "    }\n",
       "</style>\n",
       "<table border=\"1\" class=\"dataframe\">\n",
       "  <thead>\n",
       "    <tr style=\"text-align: right;\">\n",
       "      <th></th>\n",
       "      <th>age</th>\n",
       "      <th>job</th>\n",
       "      <th>marital</th>\n",
       "      <th>education</th>\n",
       "      <th>default</th>\n",
       "      <th>housing</th>\n",
       "      <th>loan</th>\n",
       "      <th>contact</th>\n",
       "      <th>month</th>\n",
       "      <th>day_of_week</th>\n",
       "      <th>...</th>\n",
       "      <th>emp.var.rate</th>\n",
       "      <th>cons.price.idx</th>\n",
       "      <th>cons.conf.idx</th>\n",
       "      <th>euribor3m</th>\n",
       "      <th>y</th>\n",
       "      <th>Log_duration</th>\n",
       "      <th>Log_campaign</th>\n",
       "      <th>Log_pdays</th>\n",
       "      <th>Log_previous</th>\n",
       "      <th>Log_nr.employed</th>\n",
       "    </tr>\n",
       "  </thead>\n",
       "  <tbody>\n",
       "    <tr>\n",
       "      <th>0</th>\n",
       "      <td>56</td>\n",
       "      <td>housemaid</td>\n",
       "      <td>married</td>\n",
       "      <td>basic.4y</td>\n",
       "      <td>no</td>\n",
       "      <td>no</td>\n",
       "      <td>no</td>\n",
       "      <td>telephone</td>\n",
       "      <td>may</td>\n",
       "      <td>mon</td>\n",
       "      <td>...</td>\n",
       "      <td>1.1</td>\n",
       "      <td>93.994</td>\n",
       "      <td>-36.4</td>\n",
       "      <td>4.857</td>\n",
       "      <td>no</td>\n",
       "      <td>5.568345</td>\n",
       "      <td>0.693147</td>\n",
       "      <td>6.907755</td>\n",
       "      <td>0.0</td>\n",
       "      <td>8.554874</td>\n",
       "    </tr>\n",
       "    <tr>\n",
       "      <th>1</th>\n",
       "      <td>57</td>\n",
       "      <td>services</td>\n",
       "      <td>married</td>\n",
       "      <td>high.school</td>\n",
       "      <td>unknown</td>\n",
       "      <td>no</td>\n",
       "      <td>no</td>\n",
       "      <td>telephone</td>\n",
       "      <td>may</td>\n",
       "      <td>mon</td>\n",
       "      <td>...</td>\n",
       "      <td>1.1</td>\n",
       "      <td>93.994</td>\n",
       "      <td>-36.4</td>\n",
       "      <td>4.857</td>\n",
       "      <td>no</td>\n",
       "      <td>5.010635</td>\n",
       "      <td>0.693147</td>\n",
       "      <td>6.907755</td>\n",
       "      <td>0.0</td>\n",
       "      <td>8.554874</td>\n",
       "    </tr>\n",
       "    <tr>\n",
       "      <th>2</th>\n",
       "      <td>37</td>\n",
       "      <td>services</td>\n",
       "      <td>married</td>\n",
       "      <td>high.school</td>\n",
       "      <td>no</td>\n",
       "      <td>yes</td>\n",
       "      <td>no</td>\n",
       "      <td>telephone</td>\n",
       "      <td>may</td>\n",
       "      <td>mon</td>\n",
       "      <td>...</td>\n",
       "      <td>1.1</td>\n",
       "      <td>93.994</td>\n",
       "      <td>-36.4</td>\n",
       "      <td>4.857</td>\n",
       "      <td>no</td>\n",
       "      <td>5.424950</td>\n",
       "      <td>0.693147</td>\n",
       "      <td>6.907755</td>\n",
       "      <td>0.0</td>\n",
       "      <td>8.554874</td>\n",
       "    </tr>\n",
       "    <tr>\n",
       "      <th>3</th>\n",
       "      <td>40</td>\n",
       "      <td>admin.</td>\n",
       "      <td>married</td>\n",
       "      <td>basic.6y</td>\n",
       "      <td>no</td>\n",
       "      <td>no</td>\n",
       "      <td>no</td>\n",
       "      <td>telephone</td>\n",
       "      <td>may</td>\n",
       "      <td>mon</td>\n",
       "      <td>...</td>\n",
       "      <td>1.1</td>\n",
       "      <td>93.994</td>\n",
       "      <td>-36.4</td>\n",
       "      <td>4.857</td>\n",
       "      <td>no</td>\n",
       "      <td>5.023881</td>\n",
       "      <td>0.693147</td>\n",
       "      <td>6.907755</td>\n",
       "      <td>0.0</td>\n",
       "      <td>8.554874</td>\n",
       "    </tr>\n",
       "    <tr>\n",
       "      <th>4</th>\n",
       "      <td>56</td>\n",
       "      <td>services</td>\n",
       "      <td>married</td>\n",
       "      <td>high.school</td>\n",
       "      <td>no</td>\n",
       "      <td>no</td>\n",
       "      <td>yes</td>\n",
       "      <td>telephone</td>\n",
       "      <td>may</td>\n",
       "      <td>mon</td>\n",
       "      <td>...</td>\n",
       "      <td>1.1</td>\n",
       "      <td>93.994</td>\n",
       "      <td>-36.4</td>\n",
       "      <td>4.857</td>\n",
       "      <td>no</td>\n",
       "      <td>5.730100</td>\n",
       "      <td>0.693147</td>\n",
       "      <td>6.907755</td>\n",
       "      <td>0.0</td>\n",
       "      <td>8.554874</td>\n",
       "    </tr>\n",
       "  </tbody>\n",
       "</table>\n",
       "<p>5 rows × 21 columns</p>\n",
       "</div>"
      ],
      "text/plain": [
       "   age        job  marital    education  default housing loan    contact  \\\n",
       "0   56  housemaid  married     basic.4y       no      no   no  telephone   \n",
       "1   57   services  married  high.school  unknown      no   no  telephone   \n",
       "2   37   services  married  high.school       no     yes   no  telephone   \n",
       "3   40     admin.  married     basic.6y       no      no   no  telephone   \n",
       "4   56   services  married  high.school       no      no  yes  telephone   \n",
       "\n",
       "  month day_of_week  ... emp.var.rate  cons.price.idx  cons.conf.idx  \\\n",
       "0   may         mon  ...          1.1          93.994          -36.4   \n",
       "1   may         mon  ...          1.1          93.994          -36.4   \n",
       "2   may         mon  ...          1.1          93.994          -36.4   \n",
       "3   may         mon  ...          1.1          93.994          -36.4   \n",
       "4   may         mon  ...          1.1          93.994          -36.4   \n",
       "\n",
       "   euribor3m   y Log_duration  Log_campaign  Log_pdays  Log_previous  \\\n",
       "0      4.857  no     5.568345      0.693147   6.907755           0.0   \n",
       "1      4.857  no     5.010635      0.693147   6.907755           0.0   \n",
       "2      4.857  no     5.424950      0.693147   6.907755           0.0   \n",
       "3      4.857  no     5.023881      0.693147   6.907755           0.0   \n",
       "4      4.857  no     5.730100      0.693147   6.907755           0.0   \n",
       "\n",
       "   Log_nr.employed  \n",
       "0         8.554874  \n",
       "1         8.554874  \n",
       "2         8.554874  \n",
       "3         8.554874  \n",
       "4         8.554874  \n",
       "\n",
       "[5 rows x 21 columns]"
      ]
     },
     "execution_count": 1119,
     "metadata": {},
     "output_type": "execute_result"
    }
   ],
   "source": [
    "dt.head()"
   ]
  },
  {
   "cell_type": "markdown",
   "metadata": {},
   "source": [
    "It can be noted that not all the data lie in the same range. In order to nullify the difference, standardization is performed on the numeric data"
   ]
  },
  {
   "cell_type": "code",
   "execution_count": 1120,
   "metadata": {},
   "outputs": [],
   "source": [
    "from sklearn.preprocessing import StandardScaler\n",
    "scaler = StandardScaler()\n",
    "scaled_data = scaler.fit_transform(dt[[\"age\",\"emp.var.rate\",\"cons.conf.idx\",\n",
    "                                       \"cons.price.idx\",\n",
    "                                      \"euribor3m\",\"Log_duration\",\n",
    "                                      \"Log_campaign\",\"Log_pdays\",\n",
    "                                      \"Log_previous\",\n",
    "                                       \"Log_nr.employed\"]]) "
   ]
  },
  {
   "cell_type": "code",
   "execution_count": 1121,
   "metadata": {},
   "outputs": [],
   "source": [
    "scaled_data=pd.DataFrame(scaled_data)\n",
    "scaled_data.columns=[\"age\",\"emp.var.rate\",\"cons.conf.idx\",\n",
    "                                       \"cons.price.idx\",\n",
    "                                      \"euribor3m\",\"Log_duration\",\n",
    "                                      \"Log_campaign\",\"Log_pdays\",\n",
    "                                      \"Log_previous\",\"Log_nr.employed\"]"
   ]
  },
  {
   "cell_type": "code",
   "execution_count": 1122,
   "metadata": {},
   "outputs": [
    {
     "data": {
      "text/html": [
       "<div>\n",
       "<style scoped>\n",
       "    .dataframe tbody tr th:only-of-type {\n",
       "        vertical-align: middle;\n",
       "    }\n",
       "\n",
       "    .dataframe tbody tr th {\n",
       "        vertical-align: top;\n",
       "    }\n",
       "\n",
       "    .dataframe thead th {\n",
       "        text-align: right;\n",
       "    }\n",
       "</style>\n",
       "<table border=\"1\" class=\"dataframe\">\n",
       "  <thead>\n",
       "    <tr style=\"text-align: right;\">\n",
       "      <th></th>\n",
       "      <th>age</th>\n",
       "      <th>emp.var.rate</th>\n",
       "      <th>cons.conf.idx</th>\n",
       "      <th>cons.price.idx</th>\n",
       "      <th>euribor3m</th>\n",
       "      <th>Log_duration</th>\n",
       "      <th>Log_campaign</th>\n",
       "      <th>Log_pdays</th>\n",
       "      <th>Log_previous</th>\n",
       "      <th>Log_nr.employed</th>\n",
       "    </tr>\n",
       "  </thead>\n",
       "  <tbody>\n",
       "    <tr>\n",
       "      <th>0</th>\n",
       "      <td>1.533034</td>\n",
       "      <td>0.648092</td>\n",
       "      <td>0.886447</td>\n",
       "      <td>0.722722</td>\n",
       "      <td>0.712460</td>\n",
       "      <td>0.431124</td>\n",
       "      <td>-0.866600</td>\n",
       "      <td>0.194381</td>\n",
       "      <td>-0.381410</td>\n",
       "      <td>0.33545</td>\n",
       "    </tr>\n",
       "    <tr>\n",
       "      <th>1</th>\n",
       "      <td>1.628993</td>\n",
       "      <td>0.648092</td>\n",
       "      <td>0.886447</td>\n",
       "      <td>0.722722</td>\n",
       "      <td>0.712460</td>\n",
       "      <td>-0.177114</td>\n",
       "      <td>-0.866600</td>\n",
       "      <td>0.194381</td>\n",
       "      <td>-0.381410</td>\n",
       "      <td>0.33545</td>\n",
       "    </tr>\n",
       "    <tr>\n",
       "      <th>2</th>\n",
       "      <td>-0.290186</td>\n",
       "      <td>0.648092</td>\n",
       "      <td>0.886447</td>\n",
       "      <td>0.722722</td>\n",
       "      <td>0.712460</td>\n",
       "      <td>0.274738</td>\n",
       "      <td>-0.866600</td>\n",
       "      <td>0.194381</td>\n",
       "      <td>-0.381410</td>\n",
       "      <td>0.33545</td>\n",
       "    </tr>\n",
       "    <tr>\n",
       "      <th>3</th>\n",
       "      <td>-0.002309</td>\n",
       "      <td>0.648092</td>\n",
       "      <td>0.886447</td>\n",
       "      <td>0.722722</td>\n",
       "      <td>0.712460</td>\n",
       "      <td>-0.162669</td>\n",
       "      <td>-0.866600</td>\n",
       "      <td>0.194381</td>\n",
       "      <td>-0.381410</td>\n",
       "      <td>0.33545</td>\n",
       "    </tr>\n",
       "    <tr>\n",
       "      <th>4</th>\n",
       "      <td>1.533034</td>\n",
       "      <td>0.648092</td>\n",
       "      <td>0.886447</td>\n",
       "      <td>0.722722</td>\n",
       "      <td>0.712460</td>\n",
       "      <td>0.607534</td>\n",
       "      <td>-0.866600</td>\n",
       "      <td>0.194381</td>\n",
       "      <td>-0.381410</td>\n",
       "      <td>0.33545</td>\n",
       "    </tr>\n",
       "    <tr>\n",
       "      <th>...</th>\n",
       "      <td>...</td>\n",
       "      <td>...</td>\n",
       "      <td>...</td>\n",
       "      <td>...</td>\n",
       "      <td>...</td>\n",
       "      <td>...</td>\n",
       "      <td>...</td>\n",
       "      <td>...</td>\n",
       "      <td>...</td>\n",
       "      <td>...</td>\n",
       "    </tr>\n",
       "    <tr>\n",
       "      <th>41183</th>\n",
       "      <td>3.164336</td>\n",
       "      <td>-0.752343</td>\n",
       "      <td>-2.224953</td>\n",
       "      <td>2.058168</td>\n",
       "      <td>-1.495186</td>\n",
       "      <td>0.699178</td>\n",
       "      <td>-0.866600</td>\n",
       "      <td>0.194381</td>\n",
       "      <td>-0.381410</td>\n",
       "      <td>-2.84416</td>\n",
       "    </tr>\n",
       "    <tr>\n",
       "      <th>41184</th>\n",
       "      <td>0.573445</td>\n",
       "      <td>-0.752343</td>\n",
       "      <td>-2.224953</td>\n",
       "      <td>2.058168</td>\n",
       "      <td>-1.495186</td>\n",
       "      <td>0.848058</td>\n",
       "      <td>-0.866600</td>\n",
       "      <td>0.194381</td>\n",
       "      <td>-0.381410</td>\n",
       "      <td>-2.84416</td>\n",
       "    </tr>\n",
       "    <tr>\n",
       "      <th>41185</th>\n",
       "      <td>1.533034</td>\n",
       "      <td>-0.752343</td>\n",
       "      <td>-2.224953</td>\n",
       "      <td>2.058168</td>\n",
       "      <td>-1.495186</td>\n",
       "      <td>0.080692</td>\n",
       "      <td>-0.041472</td>\n",
       "      <td>0.194381</td>\n",
       "      <td>-0.381410</td>\n",
       "      <td>-2.84416</td>\n",
       "    </tr>\n",
       "    <tr>\n",
       "      <th>41186</th>\n",
       "      <td>0.381527</td>\n",
       "      <td>-0.752343</td>\n",
       "      <td>-2.224953</td>\n",
       "      <td>2.058168</td>\n",
       "      <td>-1.495186</td>\n",
       "      <td>1.003934</td>\n",
       "      <td>-0.866600</td>\n",
       "      <td>0.194381</td>\n",
       "      <td>-0.381410</td>\n",
       "      <td>-2.84416</td>\n",
       "    </tr>\n",
       "    <tr>\n",
       "      <th>41187</th>\n",
       "      <td>3.260295</td>\n",
       "      <td>-0.752343</td>\n",
       "      <td>-2.224953</td>\n",
       "      <td>2.058168</td>\n",
       "      <td>-1.495186</td>\n",
       "      <td>0.335472</td>\n",
       "      <td>0.543966</td>\n",
       "      <td>0.194381</td>\n",
       "      <td>2.067782</td>\n",
       "      <td>-2.84416</td>\n",
       "    </tr>\n",
       "  </tbody>\n",
       "</table>\n",
       "<p>41188 rows × 10 columns</p>\n",
       "</div>"
      ],
      "text/plain": [
       "            age  emp.var.rate  cons.conf.idx  cons.price.idx  euribor3m  \\\n",
       "0      1.533034      0.648092       0.886447        0.722722   0.712460   \n",
       "1      1.628993      0.648092       0.886447        0.722722   0.712460   \n",
       "2     -0.290186      0.648092       0.886447        0.722722   0.712460   \n",
       "3     -0.002309      0.648092       0.886447        0.722722   0.712460   \n",
       "4      1.533034      0.648092       0.886447        0.722722   0.712460   \n",
       "...         ...           ...            ...             ...        ...   \n",
       "41183  3.164336     -0.752343      -2.224953        2.058168  -1.495186   \n",
       "41184  0.573445     -0.752343      -2.224953        2.058168  -1.495186   \n",
       "41185  1.533034     -0.752343      -2.224953        2.058168  -1.495186   \n",
       "41186  0.381527     -0.752343      -2.224953        2.058168  -1.495186   \n",
       "41187  3.260295     -0.752343      -2.224953        2.058168  -1.495186   \n",
       "\n",
       "       Log_duration  Log_campaign  Log_pdays  Log_previous  Log_nr.employed  \n",
       "0          0.431124     -0.866600   0.194381     -0.381410          0.33545  \n",
       "1         -0.177114     -0.866600   0.194381     -0.381410          0.33545  \n",
       "2          0.274738     -0.866600   0.194381     -0.381410          0.33545  \n",
       "3         -0.162669     -0.866600   0.194381     -0.381410          0.33545  \n",
       "4          0.607534     -0.866600   0.194381     -0.381410          0.33545  \n",
       "...             ...           ...        ...           ...              ...  \n",
       "41183      0.699178     -0.866600   0.194381     -0.381410         -2.84416  \n",
       "41184      0.848058     -0.866600   0.194381     -0.381410         -2.84416  \n",
       "41185      0.080692     -0.041472   0.194381     -0.381410         -2.84416  \n",
       "41186      1.003934     -0.866600   0.194381     -0.381410         -2.84416  \n",
       "41187      0.335472      0.543966   0.194381      2.067782         -2.84416  \n",
       "\n",
       "[41188 rows x 10 columns]"
      ]
     },
     "execution_count": 1122,
     "metadata": {},
     "output_type": "execute_result"
    }
   ],
   "source": [
    "scaled_data"
   ]
  },
  {
   "cell_type": "markdown",
   "metadata": {},
   "source": [
    "Following statements update the dataframe"
   ]
  },
  {
   "cell_type": "code",
   "execution_count": 1123,
   "metadata": {},
   "outputs": [],
   "source": [
    "temp=dt.drop([\"age\",\"emp.var.rate\",\"cons.conf.idx\",\n",
    "                                       \"cons.price.idx\",\n",
    "                                      \"euribor3m\",\"Log_duration\",\n",
    "                                      \"Log_campaign\",\"Log_pdays\",\n",
    "                                      \"Log_previous\",\"Log_nr.employed\"],axis=1)"
   ]
  },
  {
   "cell_type": "code",
   "execution_count": 1124,
   "metadata": {},
   "outputs": [],
   "source": [
    "dt_final=pd.concat([temp,scaled_data],axis=1)"
   ]
  },
  {
   "cell_type": "code",
   "execution_count": 1125,
   "metadata": {},
   "outputs": [
    {
     "data": {
      "text/html": [
       "<div>\n",
       "<style scoped>\n",
       "    .dataframe tbody tr th:only-of-type {\n",
       "        vertical-align: middle;\n",
       "    }\n",
       "\n",
       "    .dataframe tbody tr th {\n",
       "        vertical-align: top;\n",
       "    }\n",
       "\n",
       "    .dataframe thead th {\n",
       "        text-align: right;\n",
       "    }\n",
       "</style>\n",
       "<table border=\"1\" class=\"dataframe\">\n",
       "  <thead>\n",
       "    <tr style=\"text-align: right;\">\n",
       "      <th></th>\n",
       "      <th>job</th>\n",
       "      <th>marital</th>\n",
       "      <th>education</th>\n",
       "      <th>default</th>\n",
       "      <th>housing</th>\n",
       "      <th>loan</th>\n",
       "      <th>contact</th>\n",
       "      <th>month</th>\n",
       "      <th>day_of_week</th>\n",
       "      <th>poutcome</th>\n",
       "      <th>...</th>\n",
       "      <th>age</th>\n",
       "      <th>emp.var.rate</th>\n",
       "      <th>cons.conf.idx</th>\n",
       "      <th>cons.price.idx</th>\n",
       "      <th>euribor3m</th>\n",
       "      <th>Log_duration</th>\n",
       "      <th>Log_campaign</th>\n",
       "      <th>Log_pdays</th>\n",
       "      <th>Log_previous</th>\n",
       "      <th>Log_nr.employed</th>\n",
       "    </tr>\n",
       "  </thead>\n",
       "  <tbody>\n",
       "    <tr>\n",
       "      <th>0</th>\n",
       "      <td>housemaid</td>\n",
       "      <td>married</td>\n",
       "      <td>basic.4y</td>\n",
       "      <td>no</td>\n",
       "      <td>no</td>\n",
       "      <td>no</td>\n",
       "      <td>telephone</td>\n",
       "      <td>may</td>\n",
       "      <td>mon</td>\n",
       "      <td>nonexistent</td>\n",
       "      <td>...</td>\n",
       "      <td>1.533034</td>\n",
       "      <td>0.648092</td>\n",
       "      <td>0.886447</td>\n",
       "      <td>0.722722</td>\n",
       "      <td>0.71246</td>\n",
       "      <td>0.431124</td>\n",
       "      <td>-0.8666</td>\n",
       "      <td>0.194381</td>\n",
       "      <td>-0.38141</td>\n",
       "      <td>0.33545</td>\n",
       "    </tr>\n",
       "    <tr>\n",
       "      <th>1</th>\n",
       "      <td>services</td>\n",
       "      <td>married</td>\n",
       "      <td>high.school</td>\n",
       "      <td>unknown</td>\n",
       "      <td>no</td>\n",
       "      <td>no</td>\n",
       "      <td>telephone</td>\n",
       "      <td>may</td>\n",
       "      <td>mon</td>\n",
       "      <td>nonexistent</td>\n",
       "      <td>...</td>\n",
       "      <td>1.628993</td>\n",
       "      <td>0.648092</td>\n",
       "      <td>0.886447</td>\n",
       "      <td>0.722722</td>\n",
       "      <td>0.71246</td>\n",
       "      <td>-0.177114</td>\n",
       "      <td>-0.8666</td>\n",
       "      <td>0.194381</td>\n",
       "      <td>-0.38141</td>\n",
       "      <td>0.33545</td>\n",
       "    </tr>\n",
       "    <tr>\n",
       "      <th>2</th>\n",
       "      <td>services</td>\n",
       "      <td>married</td>\n",
       "      <td>high.school</td>\n",
       "      <td>no</td>\n",
       "      <td>yes</td>\n",
       "      <td>no</td>\n",
       "      <td>telephone</td>\n",
       "      <td>may</td>\n",
       "      <td>mon</td>\n",
       "      <td>nonexistent</td>\n",
       "      <td>...</td>\n",
       "      <td>-0.290186</td>\n",
       "      <td>0.648092</td>\n",
       "      <td>0.886447</td>\n",
       "      <td>0.722722</td>\n",
       "      <td>0.71246</td>\n",
       "      <td>0.274738</td>\n",
       "      <td>-0.8666</td>\n",
       "      <td>0.194381</td>\n",
       "      <td>-0.38141</td>\n",
       "      <td>0.33545</td>\n",
       "    </tr>\n",
       "    <tr>\n",
       "      <th>3</th>\n",
       "      <td>admin.</td>\n",
       "      <td>married</td>\n",
       "      <td>basic.6y</td>\n",
       "      <td>no</td>\n",
       "      <td>no</td>\n",
       "      <td>no</td>\n",
       "      <td>telephone</td>\n",
       "      <td>may</td>\n",
       "      <td>mon</td>\n",
       "      <td>nonexistent</td>\n",
       "      <td>...</td>\n",
       "      <td>-0.002309</td>\n",
       "      <td>0.648092</td>\n",
       "      <td>0.886447</td>\n",
       "      <td>0.722722</td>\n",
       "      <td>0.71246</td>\n",
       "      <td>-0.162669</td>\n",
       "      <td>-0.8666</td>\n",
       "      <td>0.194381</td>\n",
       "      <td>-0.38141</td>\n",
       "      <td>0.33545</td>\n",
       "    </tr>\n",
       "    <tr>\n",
       "      <th>4</th>\n",
       "      <td>services</td>\n",
       "      <td>married</td>\n",
       "      <td>high.school</td>\n",
       "      <td>no</td>\n",
       "      <td>no</td>\n",
       "      <td>yes</td>\n",
       "      <td>telephone</td>\n",
       "      <td>may</td>\n",
       "      <td>mon</td>\n",
       "      <td>nonexistent</td>\n",
       "      <td>...</td>\n",
       "      <td>1.533034</td>\n",
       "      <td>0.648092</td>\n",
       "      <td>0.886447</td>\n",
       "      <td>0.722722</td>\n",
       "      <td>0.71246</td>\n",
       "      <td>0.607534</td>\n",
       "      <td>-0.8666</td>\n",
       "      <td>0.194381</td>\n",
       "      <td>-0.38141</td>\n",
       "      <td>0.33545</td>\n",
       "    </tr>\n",
       "  </tbody>\n",
       "</table>\n",
       "<p>5 rows × 21 columns</p>\n",
       "</div>"
      ],
      "text/plain": [
       "         job  marital    education  default housing loan    contact month  \\\n",
       "0  housemaid  married     basic.4y       no      no   no  telephone   may   \n",
       "1   services  married  high.school  unknown      no   no  telephone   may   \n",
       "2   services  married  high.school       no     yes   no  telephone   may   \n",
       "3     admin.  married     basic.6y       no      no   no  telephone   may   \n",
       "4   services  married  high.school       no      no  yes  telephone   may   \n",
       "\n",
       "  day_of_week     poutcome  ...       age  emp.var.rate  cons.conf.idx  \\\n",
       "0         mon  nonexistent  ...  1.533034      0.648092       0.886447   \n",
       "1         mon  nonexistent  ...  1.628993      0.648092       0.886447   \n",
       "2         mon  nonexistent  ... -0.290186      0.648092       0.886447   \n",
       "3         mon  nonexistent  ... -0.002309      0.648092       0.886447   \n",
       "4         mon  nonexistent  ...  1.533034      0.648092       0.886447   \n",
       "\n",
       "   cons.price.idx  euribor3m  Log_duration  Log_campaign  Log_pdays  \\\n",
       "0        0.722722    0.71246      0.431124       -0.8666   0.194381   \n",
       "1        0.722722    0.71246     -0.177114       -0.8666   0.194381   \n",
       "2        0.722722    0.71246      0.274738       -0.8666   0.194381   \n",
       "3        0.722722    0.71246     -0.162669       -0.8666   0.194381   \n",
       "4        0.722722    0.71246      0.607534       -0.8666   0.194381   \n",
       "\n",
       "   Log_previous  Log_nr.employed  \n",
       "0      -0.38141          0.33545  \n",
       "1      -0.38141          0.33545  \n",
       "2      -0.38141          0.33545  \n",
       "3      -0.38141          0.33545  \n",
       "4      -0.38141          0.33545  \n",
       "\n",
       "[5 rows x 21 columns]"
      ]
     },
     "execution_count": 1125,
     "metadata": {},
     "output_type": "execute_result"
    }
   ],
   "source": [
    "dt_final.head()"
   ]
  },
  {
   "cell_type": "code",
   "execution_count": 1126,
   "metadata": {},
   "outputs": [
    {
     "data": {
      "text/plain": [
       "(41188, 21)"
      ]
     },
     "execution_count": 1126,
     "metadata": {},
     "output_type": "execute_result"
    }
   ],
   "source": [
    "dt_final.shape"
   ]
  },
  {
   "cell_type": "code",
   "execution_count": 1127,
   "metadata": {},
   "outputs": [
    {
     "name": "stdout",
     "output_type": "stream",
     "text": [
      "<class 'pandas.core.frame.DataFrame'>\n",
      "RangeIndex: 41188 entries, 0 to 41187\n",
      "Data columns (total 21 columns):\n",
      " #   Column           Non-Null Count  Dtype  \n",
      "---  ------           --------------  -----  \n",
      " 0   job              41188 non-null  object \n",
      " 1   marital          41188 non-null  object \n",
      " 2   education        41188 non-null  object \n",
      " 3   default          41188 non-null  object \n",
      " 4   housing          41188 non-null  object \n",
      " 5   loan             41188 non-null  object \n",
      " 6   contact          41188 non-null  object \n",
      " 7   month            41188 non-null  object \n",
      " 8   day_of_week      41188 non-null  object \n",
      " 9   poutcome         41188 non-null  object \n",
      " 10  y                41188 non-null  object \n",
      " 11  age              41188 non-null  float64\n",
      " 12  emp.var.rate     41188 non-null  float64\n",
      " 13  cons.conf.idx    41188 non-null  float64\n",
      " 14  cons.price.idx   41188 non-null  float64\n",
      " 15  euribor3m        41188 non-null  float64\n",
      " 16  Log_duration     41188 non-null  float64\n",
      " 17  Log_campaign     41188 non-null  float64\n",
      " 18  Log_pdays        41188 non-null  float64\n",
      " 19  Log_previous     41188 non-null  float64\n",
      " 20  Log_nr.employed  41188 non-null  float64\n",
      "dtypes: float64(10), object(11)\n",
      "memory usage: 6.6+ MB\n"
     ]
    }
   ],
   "source": [
    "dt_final.info()"
   ]
  },
  {
   "cell_type": "markdown",
   "metadata": {},
   "source": [
    "Next, all the categorical data needs to be One Hot Encoded. A separte column will be created for each category. The target variable is label encoded."
   ]
  },
  {
   "cell_type": "markdown",
   "metadata": {},
   "source": [
    "Checking the categories of the features"
   ]
  },
  {
   "cell_type": "code",
   "execution_count": 1128,
   "metadata": {},
   "outputs": [
    {
     "data": {
      "text/plain": [
       "admin.           10422\n",
       "blue-collar       9254\n",
       "technician        6743\n",
       "services          3969\n",
       "management        2924\n",
       "retired           1720\n",
       "entrepreneur      1456\n",
       "self-employed     1421\n",
       "housemaid         1060\n",
       "unemployed        1014\n",
       "student            875\n",
       "unknown            330\n",
       "Name: job, dtype: int64"
      ]
     },
     "execution_count": 1128,
     "metadata": {},
     "output_type": "execute_result"
    }
   ],
   "source": [
    "dt_final[\"job\"].value_counts()"
   ]
  },
  {
   "cell_type": "code",
   "execution_count": 1129,
   "metadata": {},
   "outputs": [
    {
     "data": {
      "text/plain": [
       "university.degree      12168\n",
       "high.school             9515\n",
       "basic.9y                6045\n",
       "professional.course     5243\n",
       "basic.4y                4176\n",
       "basic.6y                2292\n",
       "unknown                 1731\n",
       "illiterate                18\n",
       "Name: education, dtype: int64"
      ]
     },
     "execution_count": 1129,
     "metadata": {},
     "output_type": "execute_result"
    }
   ],
   "source": [
    "dt_final[\"education\"].value_counts()"
   ]
  },
  {
   "cell_type": "code",
   "execution_count": 1130,
   "metadata": {},
   "outputs": [
    {
     "data": {
      "text/plain": [
       "cellular     26144\n",
       "telephone    15044\n",
       "Name: contact, dtype: int64"
      ]
     },
     "execution_count": 1130,
     "metadata": {},
     "output_type": "execute_result"
    }
   ],
   "source": [
    "dt_final[\"contact\"].value_counts()"
   ]
  },
  {
   "cell_type": "code",
   "execution_count": 1131,
   "metadata": {},
   "outputs": [
    {
     "data": {
      "text/plain": [
       "may    13769\n",
       "jul     7174\n",
       "aug     6178\n",
       "jun     5318\n",
       "nov     4101\n",
       "apr     2632\n",
       "oct      718\n",
       "sep      570\n",
       "mar      546\n",
       "dec      182\n",
       "Name: month, dtype: int64"
      ]
     },
     "execution_count": 1131,
     "metadata": {},
     "output_type": "execute_result"
    }
   ],
   "source": [
    "dt_final[\"month\"].value_counts()"
   ]
  },
  {
   "cell_type": "markdown",
   "metadata": {},
   "source": [
    "One Hot Encoding the features"
   ]
  },
  {
   "cell_type": "code",
   "execution_count": 1132,
   "metadata": {},
   "outputs": [
    {
     "data": {
      "text/plain": [
       "(41188, 64)"
      ]
     },
     "execution_count": 1132,
     "metadata": {},
     "output_type": "execute_result"
    }
   ],
   "source": [
    "strin=strin[:-1]\n",
    "dummies=pd.get_dummies(dt_final,columns=strin)\n",
    "dummies.shape"
   ]
  },
  {
   "cell_type": "code",
   "execution_count": 1133,
   "metadata": {
    "scrolled": true
   },
   "outputs": [
    {
     "data": {
      "text/html": [
       "<div>\n",
       "<style scoped>\n",
       "    .dataframe tbody tr th:only-of-type {\n",
       "        vertical-align: middle;\n",
       "    }\n",
       "\n",
       "    .dataframe tbody tr th {\n",
       "        vertical-align: top;\n",
       "    }\n",
       "\n",
       "    .dataframe thead th {\n",
       "        text-align: right;\n",
       "    }\n",
       "</style>\n",
       "<table border=\"1\" class=\"dataframe\">\n",
       "  <thead>\n",
       "    <tr style=\"text-align: right;\">\n",
       "      <th></th>\n",
       "      <th>y</th>\n",
       "      <th>age</th>\n",
       "      <th>emp.var.rate</th>\n",
       "      <th>cons.conf.idx</th>\n",
       "      <th>cons.price.idx</th>\n",
       "      <th>euribor3m</th>\n",
       "      <th>Log_duration</th>\n",
       "      <th>Log_campaign</th>\n",
       "      <th>Log_pdays</th>\n",
       "      <th>Log_previous</th>\n",
       "      <th>...</th>\n",
       "      <th>month_oct</th>\n",
       "      <th>month_sep</th>\n",
       "      <th>day_of_week_fri</th>\n",
       "      <th>day_of_week_mon</th>\n",
       "      <th>day_of_week_thu</th>\n",
       "      <th>day_of_week_tue</th>\n",
       "      <th>day_of_week_wed</th>\n",
       "      <th>poutcome_failure</th>\n",
       "      <th>poutcome_nonexistent</th>\n",
       "      <th>poutcome_success</th>\n",
       "    </tr>\n",
       "  </thead>\n",
       "  <tbody>\n",
       "    <tr>\n",
       "      <th>0</th>\n",
       "      <td>no</td>\n",
       "      <td>1.533034</td>\n",
       "      <td>0.648092</td>\n",
       "      <td>0.886447</td>\n",
       "      <td>0.722722</td>\n",
       "      <td>0.712460</td>\n",
       "      <td>0.431124</td>\n",
       "      <td>-0.866600</td>\n",
       "      <td>0.194381</td>\n",
       "      <td>-0.381410</td>\n",
       "      <td>...</td>\n",
       "      <td>0</td>\n",
       "      <td>0</td>\n",
       "      <td>0</td>\n",
       "      <td>1</td>\n",
       "      <td>0</td>\n",
       "      <td>0</td>\n",
       "      <td>0</td>\n",
       "      <td>0</td>\n",
       "      <td>1</td>\n",
       "      <td>0</td>\n",
       "    </tr>\n",
       "    <tr>\n",
       "      <th>1</th>\n",
       "      <td>no</td>\n",
       "      <td>1.628993</td>\n",
       "      <td>0.648092</td>\n",
       "      <td>0.886447</td>\n",
       "      <td>0.722722</td>\n",
       "      <td>0.712460</td>\n",
       "      <td>-0.177114</td>\n",
       "      <td>-0.866600</td>\n",
       "      <td>0.194381</td>\n",
       "      <td>-0.381410</td>\n",
       "      <td>...</td>\n",
       "      <td>0</td>\n",
       "      <td>0</td>\n",
       "      <td>0</td>\n",
       "      <td>1</td>\n",
       "      <td>0</td>\n",
       "      <td>0</td>\n",
       "      <td>0</td>\n",
       "      <td>0</td>\n",
       "      <td>1</td>\n",
       "      <td>0</td>\n",
       "    </tr>\n",
       "    <tr>\n",
       "      <th>2</th>\n",
       "      <td>no</td>\n",
       "      <td>-0.290186</td>\n",
       "      <td>0.648092</td>\n",
       "      <td>0.886447</td>\n",
       "      <td>0.722722</td>\n",
       "      <td>0.712460</td>\n",
       "      <td>0.274738</td>\n",
       "      <td>-0.866600</td>\n",
       "      <td>0.194381</td>\n",
       "      <td>-0.381410</td>\n",
       "      <td>...</td>\n",
       "      <td>0</td>\n",
       "      <td>0</td>\n",
       "      <td>0</td>\n",
       "      <td>1</td>\n",
       "      <td>0</td>\n",
       "      <td>0</td>\n",
       "      <td>0</td>\n",
       "      <td>0</td>\n",
       "      <td>1</td>\n",
       "      <td>0</td>\n",
       "    </tr>\n",
       "    <tr>\n",
       "      <th>3</th>\n",
       "      <td>no</td>\n",
       "      <td>-0.002309</td>\n",
       "      <td>0.648092</td>\n",
       "      <td>0.886447</td>\n",
       "      <td>0.722722</td>\n",
       "      <td>0.712460</td>\n",
       "      <td>-0.162669</td>\n",
       "      <td>-0.866600</td>\n",
       "      <td>0.194381</td>\n",
       "      <td>-0.381410</td>\n",
       "      <td>...</td>\n",
       "      <td>0</td>\n",
       "      <td>0</td>\n",
       "      <td>0</td>\n",
       "      <td>1</td>\n",
       "      <td>0</td>\n",
       "      <td>0</td>\n",
       "      <td>0</td>\n",
       "      <td>0</td>\n",
       "      <td>1</td>\n",
       "      <td>0</td>\n",
       "    </tr>\n",
       "    <tr>\n",
       "      <th>4</th>\n",
       "      <td>no</td>\n",
       "      <td>1.533034</td>\n",
       "      <td>0.648092</td>\n",
       "      <td>0.886447</td>\n",
       "      <td>0.722722</td>\n",
       "      <td>0.712460</td>\n",
       "      <td>0.607534</td>\n",
       "      <td>-0.866600</td>\n",
       "      <td>0.194381</td>\n",
       "      <td>-0.381410</td>\n",
       "      <td>...</td>\n",
       "      <td>0</td>\n",
       "      <td>0</td>\n",
       "      <td>0</td>\n",
       "      <td>1</td>\n",
       "      <td>0</td>\n",
       "      <td>0</td>\n",
       "      <td>0</td>\n",
       "      <td>0</td>\n",
       "      <td>1</td>\n",
       "      <td>0</td>\n",
       "    </tr>\n",
       "    <tr>\n",
       "      <th>...</th>\n",
       "      <td>...</td>\n",
       "      <td>...</td>\n",
       "      <td>...</td>\n",
       "      <td>...</td>\n",
       "      <td>...</td>\n",
       "      <td>...</td>\n",
       "      <td>...</td>\n",
       "      <td>...</td>\n",
       "      <td>...</td>\n",
       "      <td>...</td>\n",
       "      <td>...</td>\n",
       "      <td>...</td>\n",
       "      <td>...</td>\n",
       "      <td>...</td>\n",
       "      <td>...</td>\n",
       "      <td>...</td>\n",
       "      <td>...</td>\n",
       "      <td>...</td>\n",
       "      <td>...</td>\n",
       "      <td>...</td>\n",
       "      <td>...</td>\n",
       "    </tr>\n",
       "    <tr>\n",
       "      <th>41183</th>\n",
       "      <td>yes</td>\n",
       "      <td>3.164336</td>\n",
       "      <td>-0.752343</td>\n",
       "      <td>-2.224953</td>\n",
       "      <td>2.058168</td>\n",
       "      <td>-1.495186</td>\n",
       "      <td>0.699178</td>\n",
       "      <td>-0.866600</td>\n",
       "      <td>0.194381</td>\n",
       "      <td>-0.381410</td>\n",
       "      <td>...</td>\n",
       "      <td>0</td>\n",
       "      <td>0</td>\n",
       "      <td>1</td>\n",
       "      <td>0</td>\n",
       "      <td>0</td>\n",
       "      <td>0</td>\n",
       "      <td>0</td>\n",
       "      <td>0</td>\n",
       "      <td>1</td>\n",
       "      <td>0</td>\n",
       "    </tr>\n",
       "    <tr>\n",
       "      <th>41184</th>\n",
       "      <td>no</td>\n",
       "      <td>0.573445</td>\n",
       "      <td>-0.752343</td>\n",
       "      <td>-2.224953</td>\n",
       "      <td>2.058168</td>\n",
       "      <td>-1.495186</td>\n",
       "      <td>0.848058</td>\n",
       "      <td>-0.866600</td>\n",
       "      <td>0.194381</td>\n",
       "      <td>-0.381410</td>\n",
       "      <td>...</td>\n",
       "      <td>0</td>\n",
       "      <td>0</td>\n",
       "      <td>1</td>\n",
       "      <td>0</td>\n",
       "      <td>0</td>\n",
       "      <td>0</td>\n",
       "      <td>0</td>\n",
       "      <td>0</td>\n",
       "      <td>1</td>\n",
       "      <td>0</td>\n",
       "    </tr>\n",
       "    <tr>\n",
       "      <th>41185</th>\n",
       "      <td>no</td>\n",
       "      <td>1.533034</td>\n",
       "      <td>-0.752343</td>\n",
       "      <td>-2.224953</td>\n",
       "      <td>2.058168</td>\n",
       "      <td>-1.495186</td>\n",
       "      <td>0.080692</td>\n",
       "      <td>-0.041472</td>\n",
       "      <td>0.194381</td>\n",
       "      <td>-0.381410</td>\n",
       "      <td>...</td>\n",
       "      <td>0</td>\n",
       "      <td>0</td>\n",
       "      <td>1</td>\n",
       "      <td>0</td>\n",
       "      <td>0</td>\n",
       "      <td>0</td>\n",
       "      <td>0</td>\n",
       "      <td>0</td>\n",
       "      <td>1</td>\n",
       "      <td>0</td>\n",
       "    </tr>\n",
       "    <tr>\n",
       "      <th>41186</th>\n",
       "      <td>yes</td>\n",
       "      <td>0.381527</td>\n",
       "      <td>-0.752343</td>\n",
       "      <td>-2.224953</td>\n",
       "      <td>2.058168</td>\n",
       "      <td>-1.495186</td>\n",
       "      <td>1.003934</td>\n",
       "      <td>-0.866600</td>\n",
       "      <td>0.194381</td>\n",
       "      <td>-0.381410</td>\n",
       "      <td>...</td>\n",
       "      <td>0</td>\n",
       "      <td>0</td>\n",
       "      <td>1</td>\n",
       "      <td>0</td>\n",
       "      <td>0</td>\n",
       "      <td>0</td>\n",
       "      <td>0</td>\n",
       "      <td>0</td>\n",
       "      <td>1</td>\n",
       "      <td>0</td>\n",
       "    </tr>\n",
       "    <tr>\n",
       "      <th>41187</th>\n",
       "      <td>no</td>\n",
       "      <td>3.260295</td>\n",
       "      <td>-0.752343</td>\n",
       "      <td>-2.224953</td>\n",
       "      <td>2.058168</td>\n",
       "      <td>-1.495186</td>\n",
       "      <td>0.335472</td>\n",
       "      <td>0.543966</td>\n",
       "      <td>0.194381</td>\n",
       "      <td>2.067782</td>\n",
       "      <td>...</td>\n",
       "      <td>0</td>\n",
       "      <td>0</td>\n",
       "      <td>1</td>\n",
       "      <td>0</td>\n",
       "      <td>0</td>\n",
       "      <td>0</td>\n",
       "      <td>0</td>\n",
       "      <td>1</td>\n",
       "      <td>0</td>\n",
       "      <td>0</td>\n",
       "    </tr>\n",
       "  </tbody>\n",
       "</table>\n",
       "<p>41188 rows × 64 columns</p>\n",
       "</div>"
      ],
      "text/plain": [
       "         y       age  emp.var.rate  cons.conf.idx  cons.price.idx  euribor3m  \\\n",
       "0       no  1.533034      0.648092       0.886447        0.722722   0.712460   \n",
       "1       no  1.628993      0.648092       0.886447        0.722722   0.712460   \n",
       "2       no -0.290186      0.648092       0.886447        0.722722   0.712460   \n",
       "3       no -0.002309      0.648092       0.886447        0.722722   0.712460   \n",
       "4       no  1.533034      0.648092       0.886447        0.722722   0.712460   \n",
       "...    ...       ...           ...            ...             ...        ...   \n",
       "41183  yes  3.164336     -0.752343      -2.224953        2.058168  -1.495186   \n",
       "41184   no  0.573445     -0.752343      -2.224953        2.058168  -1.495186   \n",
       "41185   no  1.533034     -0.752343      -2.224953        2.058168  -1.495186   \n",
       "41186  yes  0.381527     -0.752343      -2.224953        2.058168  -1.495186   \n",
       "41187   no  3.260295     -0.752343      -2.224953        2.058168  -1.495186   \n",
       "\n",
       "       Log_duration  Log_campaign  Log_pdays  Log_previous  ...  month_oct  \\\n",
       "0          0.431124     -0.866600   0.194381     -0.381410  ...          0   \n",
       "1         -0.177114     -0.866600   0.194381     -0.381410  ...          0   \n",
       "2          0.274738     -0.866600   0.194381     -0.381410  ...          0   \n",
       "3         -0.162669     -0.866600   0.194381     -0.381410  ...          0   \n",
       "4          0.607534     -0.866600   0.194381     -0.381410  ...          0   \n",
       "...             ...           ...        ...           ...  ...        ...   \n",
       "41183      0.699178     -0.866600   0.194381     -0.381410  ...          0   \n",
       "41184      0.848058     -0.866600   0.194381     -0.381410  ...          0   \n",
       "41185      0.080692     -0.041472   0.194381     -0.381410  ...          0   \n",
       "41186      1.003934     -0.866600   0.194381     -0.381410  ...          0   \n",
       "41187      0.335472      0.543966   0.194381      2.067782  ...          0   \n",
       "\n",
       "       month_sep  day_of_week_fri  day_of_week_mon  day_of_week_thu  \\\n",
       "0              0                0                1                0   \n",
       "1              0                0                1                0   \n",
       "2              0                0                1                0   \n",
       "3              0                0                1                0   \n",
       "4              0                0                1                0   \n",
       "...          ...              ...              ...              ...   \n",
       "41183          0                1                0                0   \n",
       "41184          0                1                0                0   \n",
       "41185          0                1                0                0   \n",
       "41186          0                1                0                0   \n",
       "41187          0                1                0                0   \n",
       "\n",
       "       day_of_week_tue  day_of_week_wed  poutcome_failure  \\\n",
       "0                    0                0                 0   \n",
       "1                    0                0                 0   \n",
       "2                    0                0                 0   \n",
       "3                    0                0                 0   \n",
       "4                    0                0                 0   \n",
       "...                ...              ...               ...   \n",
       "41183                0                0                 0   \n",
       "41184                0                0                 0   \n",
       "41185                0                0                 0   \n",
       "41186                0                0                 0   \n",
       "41187                0                0                 1   \n",
       "\n",
       "       poutcome_nonexistent  poutcome_success  \n",
       "0                         1                 0  \n",
       "1                         1                 0  \n",
       "2                         1                 0  \n",
       "3                         1                 0  \n",
       "4                         1                 0  \n",
       "...                     ...               ...  \n",
       "41183                     1                 0  \n",
       "41184                     1                 0  \n",
       "41185                     1                 0  \n",
       "41186                     1                 0  \n",
       "41187                     0                 0  \n",
       "\n",
       "[41188 rows x 64 columns]"
      ]
     },
     "execution_count": 1133,
     "metadata": {},
     "output_type": "execute_result"
    }
   ],
   "source": [
    "dummies"
   ]
  },
  {
   "cell_type": "code",
   "execution_count": 1134,
   "metadata": {},
   "outputs": [],
   "source": [
    "dt=dummies"
   ]
  },
  {
   "cell_type": "markdown",
   "metadata": {},
   "source": [
    "Label Encoding the target variable"
   ]
  },
  {
   "cell_type": "code",
   "execution_count": 1135,
   "metadata": {},
   "outputs": [],
   "source": [
    "label = preprocessing.LabelEncoder()\n",
    "dt[\"y\"]=label.fit_transform(dt[\"y\"])"
   ]
  },
  {
   "cell_type": "code",
   "execution_count": 1136,
   "metadata": {},
   "outputs": [
    {
     "data": {
      "text/html": [
       "<div>\n",
       "<style scoped>\n",
       "    .dataframe tbody tr th:only-of-type {\n",
       "        vertical-align: middle;\n",
       "    }\n",
       "\n",
       "    .dataframe tbody tr th {\n",
       "        vertical-align: top;\n",
       "    }\n",
       "\n",
       "    .dataframe thead th {\n",
       "        text-align: right;\n",
       "    }\n",
       "</style>\n",
       "<table border=\"1\" class=\"dataframe\">\n",
       "  <thead>\n",
       "    <tr style=\"text-align: right;\">\n",
       "      <th></th>\n",
       "      <th>y</th>\n",
       "      <th>age</th>\n",
       "      <th>emp.var.rate</th>\n",
       "      <th>cons.conf.idx</th>\n",
       "      <th>cons.price.idx</th>\n",
       "      <th>euribor3m</th>\n",
       "      <th>Log_duration</th>\n",
       "      <th>Log_campaign</th>\n",
       "      <th>Log_pdays</th>\n",
       "      <th>Log_previous</th>\n",
       "      <th>...</th>\n",
       "      <th>month_oct</th>\n",
       "      <th>month_sep</th>\n",
       "      <th>day_of_week_fri</th>\n",
       "      <th>day_of_week_mon</th>\n",
       "      <th>day_of_week_thu</th>\n",
       "      <th>day_of_week_tue</th>\n",
       "      <th>day_of_week_wed</th>\n",
       "      <th>poutcome_failure</th>\n",
       "      <th>poutcome_nonexistent</th>\n",
       "      <th>poutcome_success</th>\n",
       "    </tr>\n",
       "  </thead>\n",
       "  <tbody>\n",
       "    <tr>\n",
       "      <th>0</th>\n",
       "      <td>0</td>\n",
       "      <td>1.533034</td>\n",
       "      <td>0.648092</td>\n",
       "      <td>0.886447</td>\n",
       "      <td>0.722722</td>\n",
       "      <td>0.71246</td>\n",
       "      <td>0.431124</td>\n",
       "      <td>-0.8666</td>\n",
       "      <td>0.194381</td>\n",
       "      <td>-0.38141</td>\n",
       "      <td>...</td>\n",
       "      <td>0</td>\n",
       "      <td>0</td>\n",
       "      <td>0</td>\n",
       "      <td>1</td>\n",
       "      <td>0</td>\n",
       "      <td>0</td>\n",
       "      <td>0</td>\n",
       "      <td>0</td>\n",
       "      <td>1</td>\n",
       "      <td>0</td>\n",
       "    </tr>\n",
       "    <tr>\n",
       "      <th>1</th>\n",
       "      <td>0</td>\n",
       "      <td>1.628993</td>\n",
       "      <td>0.648092</td>\n",
       "      <td>0.886447</td>\n",
       "      <td>0.722722</td>\n",
       "      <td>0.71246</td>\n",
       "      <td>-0.177114</td>\n",
       "      <td>-0.8666</td>\n",
       "      <td>0.194381</td>\n",
       "      <td>-0.38141</td>\n",
       "      <td>...</td>\n",
       "      <td>0</td>\n",
       "      <td>0</td>\n",
       "      <td>0</td>\n",
       "      <td>1</td>\n",
       "      <td>0</td>\n",
       "      <td>0</td>\n",
       "      <td>0</td>\n",
       "      <td>0</td>\n",
       "      <td>1</td>\n",
       "      <td>0</td>\n",
       "    </tr>\n",
       "    <tr>\n",
       "      <th>2</th>\n",
       "      <td>0</td>\n",
       "      <td>-0.290186</td>\n",
       "      <td>0.648092</td>\n",
       "      <td>0.886447</td>\n",
       "      <td>0.722722</td>\n",
       "      <td>0.71246</td>\n",
       "      <td>0.274738</td>\n",
       "      <td>-0.8666</td>\n",
       "      <td>0.194381</td>\n",
       "      <td>-0.38141</td>\n",
       "      <td>...</td>\n",
       "      <td>0</td>\n",
       "      <td>0</td>\n",
       "      <td>0</td>\n",
       "      <td>1</td>\n",
       "      <td>0</td>\n",
       "      <td>0</td>\n",
       "      <td>0</td>\n",
       "      <td>0</td>\n",
       "      <td>1</td>\n",
       "      <td>0</td>\n",
       "    </tr>\n",
       "    <tr>\n",
       "      <th>3</th>\n",
       "      <td>0</td>\n",
       "      <td>-0.002309</td>\n",
       "      <td>0.648092</td>\n",
       "      <td>0.886447</td>\n",
       "      <td>0.722722</td>\n",
       "      <td>0.71246</td>\n",
       "      <td>-0.162669</td>\n",
       "      <td>-0.8666</td>\n",
       "      <td>0.194381</td>\n",
       "      <td>-0.38141</td>\n",
       "      <td>...</td>\n",
       "      <td>0</td>\n",
       "      <td>0</td>\n",
       "      <td>0</td>\n",
       "      <td>1</td>\n",
       "      <td>0</td>\n",
       "      <td>0</td>\n",
       "      <td>0</td>\n",
       "      <td>0</td>\n",
       "      <td>1</td>\n",
       "      <td>0</td>\n",
       "    </tr>\n",
       "    <tr>\n",
       "      <th>4</th>\n",
       "      <td>0</td>\n",
       "      <td>1.533034</td>\n",
       "      <td>0.648092</td>\n",
       "      <td>0.886447</td>\n",
       "      <td>0.722722</td>\n",
       "      <td>0.71246</td>\n",
       "      <td>0.607534</td>\n",
       "      <td>-0.8666</td>\n",
       "      <td>0.194381</td>\n",
       "      <td>-0.38141</td>\n",
       "      <td>...</td>\n",
       "      <td>0</td>\n",
       "      <td>0</td>\n",
       "      <td>0</td>\n",
       "      <td>1</td>\n",
       "      <td>0</td>\n",
       "      <td>0</td>\n",
       "      <td>0</td>\n",
       "      <td>0</td>\n",
       "      <td>1</td>\n",
       "      <td>0</td>\n",
       "    </tr>\n",
       "  </tbody>\n",
       "</table>\n",
       "<p>5 rows × 64 columns</p>\n",
       "</div>"
      ],
      "text/plain": [
       "   y       age  emp.var.rate  cons.conf.idx  cons.price.idx  euribor3m  \\\n",
       "0  0  1.533034      0.648092       0.886447        0.722722    0.71246   \n",
       "1  0  1.628993      0.648092       0.886447        0.722722    0.71246   \n",
       "2  0 -0.290186      0.648092       0.886447        0.722722    0.71246   \n",
       "3  0 -0.002309      0.648092       0.886447        0.722722    0.71246   \n",
       "4  0  1.533034      0.648092       0.886447        0.722722    0.71246   \n",
       "\n",
       "   Log_duration  Log_campaign  Log_pdays  Log_previous  ...  month_oct  \\\n",
       "0      0.431124       -0.8666   0.194381      -0.38141  ...          0   \n",
       "1     -0.177114       -0.8666   0.194381      -0.38141  ...          0   \n",
       "2      0.274738       -0.8666   0.194381      -0.38141  ...          0   \n",
       "3     -0.162669       -0.8666   0.194381      -0.38141  ...          0   \n",
       "4      0.607534       -0.8666   0.194381      -0.38141  ...          0   \n",
       "\n",
       "   month_sep  day_of_week_fri  day_of_week_mon  day_of_week_thu  \\\n",
       "0          0                0                1                0   \n",
       "1          0                0                1                0   \n",
       "2          0                0                1                0   \n",
       "3          0                0                1                0   \n",
       "4          0                0                1                0   \n",
       "\n",
       "   day_of_week_tue  day_of_week_wed  poutcome_failure  poutcome_nonexistent  \\\n",
       "0                0                0                 0                     1   \n",
       "1                0                0                 0                     1   \n",
       "2                0                0                 0                     1   \n",
       "3                0                0                 0                     1   \n",
       "4                0                0                 0                     1   \n",
       "\n",
       "   poutcome_success  \n",
       "0                 0  \n",
       "1                 0  \n",
       "2                 0  \n",
       "3                 0  \n",
       "4                 0  \n",
       "\n",
       "[5 rows x 64 columns]"
      ]
     },
     "execution_count": 1136,
     "metadata": {},
     "output_type": "execute_result"
    }
   ],
   "source": [
    "dt.head()"
   ]
  },
  {
   "cell_type": "code",
   "execution_count": 1137,
   "metadata": {},
   "outputs": [
    {
     "data": {
      "text/plain": [
       "0    36548\n",
       "1     4640\n",
       "Name: y, dtype: int64"
      ]
     },
     "execution_count": 1137,
     "metadata": {},
     "output_type": "execute_result"
    }
   ],
   "source": [
    "dt[\"y\"].value_counts()"
   ]
  },
  {
   "cell_type": "markdown",
   "metadata": {},
   "source": [
    "### Modelling "
   ]
  },
  {
   "cell_type": "markdown",
   "metadata": {},
   "source": [
    "Splitting the data into the train set and test set. The train data is then again split into validation and train set. All the models need to be predicted on the validation dataset and trained on the training set. The target variable is split with a stratified strategy. This will ensure that the target classes are split almost equally in the datasets "
   ]
  },
  {
   "cell_type": "code",
   "execution_count": 1138,
   "metadata": {},
   "outputs": [],
   "source": [
    "X=dt.drop([\"y\"],axis=1)\n",
    "y=dt[\"y\"]\n",
    "X_train,X_test,y_train,y_test=train_test_split(X,y,test_size=0.2,\n",
    "                                               random_state=42,stratify=y)\n",
    "X_train,X_val,y_train,y_val=train_test_split(X_train,y_train,\n",
    "                                             random_state=42,train_size=0.8,\n",
    "                                             stratify=y_train)"
   ]
  },
  {
   "cell_type": "code",
   "execution_count": 1139,
   "metadata": {},
   "outputs": [
    {
     "data": {
      "text/plain": [
       "(26360, 63)"
      ]
     },
     "execution_count": 1139,
     "metadata": {},
     "output_type": "execute_result"
    }
   ],
   "source": [
    "X_train.shape"
   ]
  },
  {
   "cell_type": "code",
   "execution_count": 1140,
   "metadata": {},
   "outputs": [
    {
     "data": {
      "text/plain": [
       "(6590, 63)"
      ]
     },
     "execution_count": 1140,
     "metadata": {},
     "output_type": "execute_result"
    }
   ],
   "source": [
    "X_val.shape"
   ]
  },
  {
   "cell_type": "markdown",
   "metadata": {},
   "source": [
    "Classification Models Applied: \n",
    "    1. Logistic Regression\n",
    "    2. K-NN algorithm\n",
    "    3. Decision Tree "
   ]
  },
  {
   "cell_type": "markdown",
   "metadata": {},
   "source": [
    "### Logistic Regression"
   ]
  },
  {
   "cell_type": "markdown",
   "metadata": {},
   "source": [
    "Logistic Regression is a binary classification algorithm. It predicts the probabilities of the occurence of a target variable. Higher the probability of the class, higher is the chance of its occurence. Logistic Regression method is implemented from the sklearn package. The solver hyperparameter is the algorithm to be used for optimization."
   ]
  },
  {
   "cell_type": "code",
   "execution_count": 1141,
   "metadata": {},
   "outputs": [
    {
     "data": {
      "text/plain": [
       "LogisticRegression(C=1.0, class_weight=None, dual=False, fit_intercept=True,\n",
       "                   intercept_scaling=1, l1_ratio=None, max_iter=100,\n",
       "                   multi_class='auto', n_jobs=None, penalty='l2',\n",
       "                   random_state=0, solver='liblinear', tol=0.0001, verbose=0,\n",
       "                   warm_start=False)"
      ]
     },
     "execution_count": 1141,
     "metadata": {},
     "output_type": "execute_result"
    }
   ],
   "source": [
    "model = LogisticRegression(solver='liblinear', random_state=0) \n",
    "model.fit(X_train,y_train)  #the model is fit on the training dataset "
   ]
  },
  {
   "cell_type": "markdown",
   "metadata": {},
   "source": [
    "Following are the coefficients of the features. The higher the value, higher the positive corelation with the model "
   ]
  },
  {
   "cell_type": "code",
   "execution_count": 1142,
   "metadata": {},
   "outputs": [],
   "source": [
    "predictions=model.predict(X_val) #predicting on the validation set "
   ]
  },
  {
   "cell_type": "code",
   "execution_count": 1143,
   "metadata": {},
   "outputs": [
    {
     "name": "stdout",
     "output_type": "stream",
     "text": [
      "Accuracy: 0.9078907435508345\n"
     ]
    }
   ],
   "source": [
    "print(\"Accuracy: \"+str(metrics.accuracy_score(y_val,predictions)))"
   ]
  },
  {
   "cell_type": "markdown",
   "metadata": {},
   "source": [
    "Cross Val score is the score for the validation sets.  We choose cv=3. So, we get scores for 3 validation sets"
   ]
  },
  {
   "cell_type": "code",
   "execution_count": 1144,
   "metadata": {},
   "outputs": [
    {
     "name": "stdout",
     "output_type": "stream",
     "text": [
      "Cross Validation Score: [0.90554228 0.91589849 0.91065331]\n"
     ]
    }
   ],
   "source": [
    "print(\"Cross Validation Score: \"+str(cross_val_score(model, X_train, y_train, cv=3)))"
   ]
  },
  {
   "cell_type": "markdown",
   "metadata": {},
   "source": [
    "The following plot shows the top 10 features. It us to be noted that the coefficients are negative which means that the features negatively impact the model. If the value of the feature increases"
   ]
  },
  {
   "cell_type": "code",
   "execution_count": 1145,
   "metadata": {},
   "outputs": [
    {
     "data": {
      "image/png": "[encoded data removed]",
      "text/plain": [
       "<Figure size 720x720 with 1 Axes>"
      ]
     },
     "metadata": {
      "needs_background": "light"
     },
     "output_type": "display_data"
    }
   ],
   "source": [
    "features=dt.columns\n",
    "plt.figure(figsize=(10,10))\n",
    "imp=np.array(model.coef_).flatten()\n",
    "indices=np.argsort(imp)[0:10]\n",
    "plt.barh(range(len(indices)),imp[indices])\n",
    "plt.yticks(range(len(indices)),[features[i] for i in indices])\n",
    "plt.title(\"Top 10 important features\")\n",
    "plt.xlabel(\"Model Coefficients\")\n",
    "plt.ylabel(\"Features\")\n",
    "plt.show()"
   ]
  },
  {
   "cell_type": "code",
   "execution_count": 1146,
   "metadata": {},
   "outputs": [],
   "source": [
    "probabilities=model.predict_proba(X_val)[:,1] #probabilities of the classes"
   ]
  },
  {
   "cell_type": "markdown",
   "metadata": {},
   "source": [
    "The classification matrix shows an accuracy of 0.91 percent. "
   ]
  },
  {
   "cell_type": "code",
   "execution_count": 1147,
   "metadata": {},
   "outputs": [
    {
     "name": "stdout",
     "output_type": "stream",
     "text": [
      "              precision    recall  f1-score   support\n",
      "\n",
      "           0       0.93      0.97      0.95      5848\n",
      "           1       0.64      0.42      0.51       742\n",
      "\n",
      "    accuracy                           0.91      6590\n",
      "   macro avg       0.78      0.70      0.73      6590\n",
      "weighted avg       0.90      0.91      0.90      6590\n",
      "\n"
     ]
    }
   ],
   "source": [
    "print(classification_report(y_val, predictions))"
   ]
  },
  {
   "cell_type": "markdown",
   "metadata": {},
   "source": [
    "Below is the confusion matrix. We can see that there are almost 5.6k correctly predicted outcomes"
   ]
  },
  {
   "cell_type": "code",
   "execution_count": 1148,
   "metadata": {},
   "outputs": [
    {
     "data": {
      "text/plain": [
       "array([[5669,  179],\n",
       "       [ 428,  314]])"
      ]
     },
     "execution_count": 1148,
     "metadata": {},
     "output_type": "execute_result"
    }
   ],
   "source": [
    "confusion_matrix(y_val, predictions)"
   ]
  },
  {
   "cell_type": "markdown",
   "metadata": {},
   "source": [
    "Calculating the AUC score of the model. AUC score lies between 0 and 1. A good performing model has a score closer to 1. The model built above has a score of 0.93. "
   ]
  },
  {
   "cell_type": "code",
   "execution_count": 1149,
   "metadata": {},
   "outputs": [
    {
     "name": "stdout",
     "output_type": "stream",
     "text": [
      "AUC score: 0.9373008856899496\n"
     ]
    }
   ],
   "source": [
    "fpr,tpr,thresholds=roc_curve(y_val,probabilities)\n",
    "print(\"AUC score: \"+str(roc_auc_score(y_val,probabilities))) "
   ]
  },
  {
   "cell_type": "markdown",
   "metadata": {},
   "source": [
    "Plotting the ROC curve.\n",
    "ROC plot is a graph of False Positive Rate VS True Positive Rate. An ideal model has the line of curve at the upper left corner (grey line in the below plot) and the worst performing model will have a straight line passing the origin. The model built above has its line of curve approaching the left top corner. This depicts that the model is a good performing model. "
   ]
  },
  {
   "cell_type": "code",
   "execution_count": 1150,
   "metadata": {},
   "outputs": [
    {
     "data": {
      "image/png": "[encoded data removed]",
      "text/plain": [
       "<Figure size 720x720 with 1 Axes>"
      ]
     },
     "metadata": {
      "needs_background": "light"
     },
     "output_type": "display_data"
    }
   ],
   "source": [
    "plt.subplots(1, figsize=(10,10)) #setting up the plot size\n",
    "plt.title('Receiver Operating Characteristic - Logistic regression')\n",
    "plt.plot(fpr, tpr)\n",
    "plt.plot([0, 1], ls=\"--\")\n",
    "plt.plot([0, 0], [1, 0] , c=\".7\"), plt.plot([1, 1] , c=\".7\")\n",
    "plt.ylabel('True Positive Rate')\n",
    "plt.xlabel('False Positive Rate')\n",
    "plt.show()"
   ]
  },
  {
   "cell_type": "markdown",
   "metadata": {},
   "source": [
    "### K-NN Algorithm"
   ]
  },
  {
   "cell_type": "markdown",
   "metadata": {},
   "source": [
    "K-NN algorithm classifies the 'k'nearest data points as one class. Choosing an optimal 'k' value is important. Below is the code that records the accuracy score of the KNN model for 25 'k' values and plots accuracy VS k value. The 'k' value producing the highest sccore can then be chosen to build the model. "
   ]
  },
  {
   "cell_type": "code",
   "execution_count": 1151,
   "metadata": {},
   "outputs": [],
   "source": [
    "k_values=range(1,26)\n",
    "scores={}\n",
    "scores_list=[]\n",
    "for k in k_values:\n",
    "    knn=KNeighborsClassifier(n_neighbors=k)\n",
    "    knn.fit(X_train,y_train)\n",
    "    predictions=knn.predict(X_val)\n",
    "    scores[k]=metrics.accuracy_score(y_val,predictions)\n",
    "    scores_list.append(metrics.accuracy_score(y_val,predictions))"
   ]
  },
  {
   "cell_type": "code",
   "execution_count": 1152,
   "metadata": {},
   "outputs": [
    {
     "data": {
      "image/png": "[encoded data removed]",
      "text/plain": [
       "<Figure size 720x720 with 1 Axes>"
      ]
     },
     "metadata": {
      "needs_background": "light"
     },
     "output_type": "display_data"
    }
   ],
   "source": [
    "plt.figure(figsize=(10,10))\n",
    "plt.plot(k_values,scores_list)\n",
    "plt.title(\"K-value VS Accuracy Score\")\n",
    "plt.xlabel(\"K-value\")\n",
    "plt.ylabel(\"Accuracy score\")\n",
    "plt.show()"
   ]
  },
  {
   "cell_type": "markdown",
   "metadata": {},
   "source": [
    "The best k value is 25 here. So, the below model is implemented with k=25"
   ]
  },
  {
   "cell_type": "code",
   "execution_count": 1153,
   "metadata": {},
   "outputs": [],
   "source": [
    "knn=KNeighborsClassifier(n_neighbors=25)\n",
    "knn.fit(X_train,y_train)\n",
    "predictions=knn.predict(X_val)"
   ]
  },
  {
   "cell_type": "code",
   "execution_count": 1154,
   "metadata": {},
   "outputs": [
    {
     "name": "stdout",
     "output_type": "stream",
     "text": [
      "Accuracy: 0.9054628224582701\n"
     ]
    }
   ],
   "source": [
    "print(\"Accuracy: \"+str(metrics.accuracy_score(y_val,predictions)))"
   ]
  },
  {
   "cell_type": "code",
   "execution_count": 1155,
   "metadata": {},
   "outputs": [
    {
     "name": "stdout",
     "output_type": "stream",
     "text": [
      "Cross Validation Score: [0.9009901  0.90508706 0.90439335]\n"
     ]
    }
   ],
   "source": [
    "print(\"Cross Validation Score: \"+str(cross_val_score(knn, X_train, y_train, cv=3)))"
   ]
  },
  {
   "cell_type": "code",
   "execution_count": 1156,
   "metadata": {},
   "outputs": [],
   "source": [
    "probabilities=knn.predict_proba(X_val)[:,1] #Getting the probabilities of the target variable"
   ]
  },
  {
   "cell_type": "code",
   "execution_count": 1157,
   "metadata": {},
   "outputs": [
    {
     "name": "stdout",
     "output_type": "stream",
     "text": [
      "AUC score:0.9214427214501422\n"
     ]
    }
   ],
   "source": [
    "fpr,tpr,thresholds=roc_curve(y_val,probabilities) #storing the true positive rate, false positive rate & thresholds\n",
    "print(\"AUC score:\"+str(roc_auc_score(y_val,probabilities)))  #getting the accuracy score"
   ]
  },
  {
   "cell_type": "code",
   "execution_count": 1158,
   "metadata": {},
   "outputs": [
    {
     "name": "stdout",
     "output_type": "stream",
     "text": [
      "              precision    recall  f1-score   support\n",
      "\n",
      "           0       0.92      0.98      0.95      5848\n",
      "           1       0.69      0.29      0.41       742\n",
      "\n",
      "    accuracy                           0.91      6590\n",
      "   macro avg       0.80      0.64      0.68      6590\n",
      "weighted avg       0.89      0.91      0.89      6590\n",
      "\n"
     ]
    }
   ],
   "source": [
    "print(classification_report(y_val, predictions))"
   ]
  },
  {
   "cell_type": "code",
   "execution_count": 1159,
   "metadata": {},
   "outputs": [
    {
     "data": {
      "text/plain": [
       "array([[5751,   97],\n",
       "       [ 526,  216]])"
      ]
     },
     "execution_count": 1159,
     "metadata": {},
     "output_type": "execute_result"
    }
   ],
   "source": [
    "confusion_matrix(y_val, predictions)"
   ]
  },
  {
   "cell_type": "code",
   "execution_count": 1160,
   "metadata": {},
   "outputs": [
    {
     "data": {
      "image/png": "[encoded data removed]",
      "text/plain": [
       "<Figure size 720x720 with 1 Axes>"
      ]
     },
     "metadata": {
      "needs_background": "light"
     },
     "output_type": "display_data"
    }
   ],
   "source": [
    "plt.subplots(1, figsize=(10,10))\n",
    "plt.title('Receiver Operating Characteristic - K-NN algorithm')\n",
    "plt.plot(fpr, tpr)\n",
    "plt.plot([0, 1], ls=\"--\") # this line of curve is the worst performing mondel \n",
    "plt.plot([0, 0], [1, 0] , c=\".7\"), plt.plot([1, 1] , c=\".7\") #this line of curve if for the best performing model\n",
    "plt.ylabel('True Positive Rate')\n",
    "plt.xlabel('False Positive Rate')\n",
    "plt.show()"
   ]
  },
  {
   "cell_type": "markdown",
   "metadata": {},
   "source": [
    "### Decision Tree Algorithm"
   ]
  },
  {
   "cell_type": "markdown",
   "metadata": {},
   "source": [
    "Decision Tree is a tree based model where it splits the data into nodes that are generated using classification rules and target variable is the leaf node. Few imortant metrics while generating the tree are : criterion, max_depth and min_samples_split. \n",
    "'Criterion' is the measure of the quality of a split. 'Max_depth' is the maximum depth of the tree and 'min_samples_split' is the minimum number of features required to make a split. \n",
    "This algorithm is also implemented from the sklearn package."
   ]
  },
  {
   "cell_type": "code",
   "execution_count": 1161,
   "metadata": {
    "scrolled": false
   },
   "outputs": [],
   "source": [
    "dt_clf=DecisionTreeClassifier() #creating a model object\n",
    "dt_clf.fit(X_train,y_train)  #Fitting on the training set\n",
    "predictions=clf.predict(X_val)  #predicting on the validation set"
   ]
  },
  {
   "cell_type": "code",
   "execution_count": 1162,
   "metadata": {},
   "outputs": [
    {
     "name": "stdout",
     "output_type": "stream",
     "text": [
      "Accuracy: 0.908649468892261\n"
     ]
    }
   ],
   "source": [
    "print(\"Accuracy: \"+str(metrics.accuracy_score(y_val,predictions)))"
   ]
  },
  {
   "cell_type": "markdown",
   "metadata": {},
   "source": [
    "In order to optimize the hyper parameters, GridSearchCV is implemented. It takes the all possible values of all hyper parameter and builds the model using all the combinations of the values. Best scores and best parameters can be then be used to build the model again with the optimized set of hyper parameters"
   ]
  },
  {
   "cell_type": "code",
   "execution_count": 1163,
   "metadata": {},
   "outputs": [
    {
     "name": "stdout",
     "output_type": "stream",
     "text": [
      "Best Score:0.9094461305007588\n",
      "Best Parameters: {'criterion': 'entropy', 'max_depth': 100, 'min_samples_split': 200}\n"
     ]
    }
   ],
   "source": [
    "estimator=DecisionTreeClassifier()\n",
    "grid_param={\n",
    "    \"criterion\":[\"gini\",\"entropy\"],\n",
    "    \"max_depth\":[50,100,150,200,250],\n",
    "    \"min_samples_split\":[50,100,150,200]\n",
    "    }\n",
    "grid=GridSearchCV(estimator,grid_param)\n",
    "grid_search=grid.fit(X_train,y_train)\n",
    "print(\"Best Score:\"+ str(grid_search.best_score_))\n",
    "print(\"Best Parameters: \"+str(grid_search.best_params_))"
   ]
  },
  {
   "cell_type": "markdown",
   "metadata": {},
   "source": [
    "Building the model again with the optimized set of parameters"
   ]
  },
  {
   "cell_type": "code",
   "execution_count": 1164,
   "metadata": {},
   "outputs": [],
   "source": [
    "dt_clf=DecisionTreeClassifier(criterion=\"entropy\",max_depth=100,min_samples_split=200)\n",
    "clf=dt_clf.fit(X_train,y_train)\n",
    "predictions=clf.predict(X_val)"
   ]
  },
  {
   "cell_type": "code",
   "execution_count": 1165,
   "metadata": {},
   "outputs": [
    {
     "name": "stdout",
     "output_type": "stream",
     "text": [
      "Accuracy: 0.908649468892261\n"
     ]
    }
   ],
   "source": [
    "print(\"Accuracy: \"+str(metrics.accuracy_score(y_val,predictions)))"
   ]
  },
  {
   "cell_type": "code",
   "execution_count": 1166,
   "metadata": {},
   "outputs": [
    {
     "name": "stdout",
     "output_type": "stream",
     "text": [
      "Cross Validation Score: [0.90895641 0.9111187  0.90974277]\n"
     ]
    }
   ],
   "source": [
    "print(\"Cross Validation Score: \"+str(cross_val_score(dt_clf, X_train, y_train, cv=3)))"
   ]
  },
  {
   "cell_type": "code",
   "execution_count": 1167,
   "metadata": {},
   "outputs": [],
   "source": [
    "probabilities=dt_clf.predict_proba(X_val)[:,1] #getting the probabilites of target class"
   ]
  },
  {
   "cell_type": "code",
   "execution_count": 1168,
   "metadata": {},
   "outputs": [
    {
     "name": "stdout",
     "output_type": "stream",
     "text": [
      "AUC Score: 0.9349831859027069\n"
     ]
    }
   ],
   "source": [
    "fpr,tpr,thresholds=roc_curve(y_val,probabilities)\n",
    "print(\"AUC Score: \"+ str(roc_auc_score(y_val,probabilities))) "
   ]
  },
  {
   "cell_type": "code",
   "execution_count": 1169,
   "metadata": {},
   "outputs": [
    {
     "name": "stdout",
     "output_type": "stream",
     "text": [
      "              precision    recall  f1-score   support\n",
      "\n",
      "           0       0.94      0.96      0.95      5848\n",
      "           1       0.62      0.49      0.55       742\n",
      "\n",
      "    accuracy                           0.91      6590\n",
      "   macro avg       0.78      0.73      0.75      6590\n",
      "weighted avg       0.90      0.91      0.90      6590\n",
      "\n"
     ]
    }
   ],
   "source": [
    "print(classification_report(y_val, predictions))"
   ]
  },
  {
   "cell_type": "code",
   "execution_count": 1170,
   "metadata": {},
   "outputs": [
    {
     "data": {
      "text/plain": [
       "array([[5622,  226],\n",
       "       [ 376,  366]])"
      ]
     },
     "execution_count": 1170,
     "metadata": {},
     "output_type": "execute_result"
    }
   ],
   "source": [
    "confusion_matrix(y_val, predictions)"
   ]
  },
  {
   "cell_type": "code",
   "execution_count": 1171,
   "metadata": {},
   "outputs": [
    {
     "data": {
      "image/png": "[encoded data removed]",
      "text/plain": [
       "<Figure size 720x720 with 1 Axes>"
      ]
     },
     "metadata": {
      "needs_background": "light"
     },
     "output_type": "display_data"
    }
   ],
   "source": [
    "plt.subplots(1, figsize=(10,10))\n",
    "plt.title('Receiver Operating Characteristic - Decision Tree')\n",
    "plt.plot(fpr, tpr)\n",
    "plt.plot([0, 1], ls=\"--\")\n",
    "plt.plot([0, 0], [1, 0] , c=\".7\"), plt.plot([1, 1] , c=\".7\")\n",
    "plt.ylabel('True Positive Rate')\n",
    "plt.xlabel('False Positive Rate')\n",
    "plt.show()"
   ]
  },
  {
   "cell_type": "markdown",
   "metadata": {},
   "source": [
    "Building the best performing model among the above three algorithms for the test data now. On examining the performance metrics, it can be said that Logistic Regression classifies the best. "
   ]
  },
  {
   "cell_type": "code",
   "execution_count": 1172,
   "metadata": {},
   "outputs": [
    {
     "name": "stdout",
     "output_type": "stream",
     "text": [
      "              precision    recall  f1-score   support\n",
      "\n",
      "           0       0.94      0.96      0.95      7310\n",
      "           1       0.66      0.52      0.58       928\n",
      "\n",
      "    accuracy                           0.92      8238\n",
      "   macro avg       0.80      0.74      0.77      8238\n",
      "weighted avg       0.91      0.92      0.91      8238\n",
      "\n"
     ]
    }
   ],
   "source": [
    "dt_clf=DecisionTreeClassifier(criterion=\"entropy\",max_depth=200,min_samples_split=200)\n",
    "clf=dt_clf.fit(X_train,y_train)\n",
    "predictions=clf.predict(X_test)\n",
    "print(classification_report(y_test, predictions))"
   ]
  },
  {
   "cell_type": "code",
   "execution_count": 1173,
   "metadata": {},
   "outputs": [
    {
     "name": "stdout",
     "output_type": "stream",
     "text": [
      "Accuracy: 0.9153920854576354\n"
     ]
    }
   ],
   "source": [
    "print(\"Accuracy: \"+str(metrics.accuracy_score(y_test,predictions)))"
   ]
  },
  {
   "cell_type": "code",
   "execution_count": 1174,
   "metadata": {},
   "outputs": [
    {
     "name": "stdout",
     "output_type": "stream",
     "text": [
      "AUC Score: 0.9349831859027069\n"
     ]
    }
   ],
   "source": [
    "probabilities=dt_clf.predict_proba(X_val)[:,1] #getting the probabilites of target class\n",
    "fpr,tpr,thresholds=roc_curve(y_val,probabilities)\n",
    "print(\"AUC Score: \"+ str(roc_auc_score(y_val,probabilities))) "
   ]
  },
  {
   "cell_type": "code",
   "execution_count": 1175,
   "metadata": {},
   "outputs": [
    {
     "data": {
      "image/png": "[encoded data removed]",
      "text/plain": [
       "<Figure size 720x720 with 1 Axes>"
      ]
     },
     "metadata": {
      "needs_background": "light"
     },
     "output_type": "display_data"
    }
   ],
   "source": [
    "plt.subplots(1, figsize=(10,10))\n",
    "plt.title('Receiver Operating Characteristic - Decision Tree')\n",
    "plt.plot(fpr, tpr)\n",
    "plt.plot([0, 1], ls=\"--\")\n",
    "plt.plot([0, 0], [1, 0] , c=\".7\"), plt.plot([1, 1] , c=\".7\")\n",
    "plt.ylabel('True Positive Rate')\n",
    "plt.xlabel('False Positive Rate')\n",
    "plt.show()"
   ]
  },
  {
   "cell_type": "code",
   "execution_count": null,
   "metadata": {},
   "outputs": [],
   "source": []
  }
 ],
 "metadata": {
  "kernelspec": {
   "display_name": "Python 3",
   "language": "python",
   "name": "python3"
  },
  "language_info": {
   "codemirror_mode": {
    "name": "ipython",
    "version": 3
   },
   "file_extension": ".py",
   "mimetype": "text/x-python",
   "name": "python",
   "nbconvert_exporter": "python",
   "pygments_lexer": "ipython3",
   "version": "3.7.6"
  }
 },
 "nbformat": 4,
 "nbformat_minor": 4
}
